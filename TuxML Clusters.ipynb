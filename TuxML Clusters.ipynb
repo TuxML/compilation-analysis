{
 "cells": [
  {
   "cell_type": "code",
   "execution_count": null,
   "metadata": {},
   "outputs": [],
   "source": [
    "import re\n",
    "import MySQLdb\n",
    "import bz2\n",
    "\n",
    "def get_errors(cid, fullLog):\n",
    "    try:\n",
    "        socket = MySQLdb.connect(\"148.60.11.195\", \"script\", \"irmadb2019\", \"IrmaDB_prod\")\n",
    "        cursor = socket.cursor()\n",
    "\n",
    "        query = \"SELECT errlog_file FROM Compilations WHERE cid = %d\" % cid\n",
    "        cursor.execute(query)\n",
    "        errlog_file = cursor.fetchone()\n",
    "        \n",
    "            \n",
    "        if (errlog_file is None):\n",
    "            print (\"Unable to retrieve cid=\", str(cid))\n",
    "            return\n",
    "\n",
    "        try:\n",
    "            log = bz2.decompress(errlog_file[0]).decode('utf-8')\n",
    "            # fatal error\n",
    "            m1 = re.findall('.* error:.+', log)\n",
    "            m2 = re.findall('. undefined reference.+', log)\n",
    "            # '1:' corresponds to the error status I guess\n",
    "            m3 = re.findall('.* 1:.+', log)\n",
    "            # may not be useful: make errors\n",
    "            m4 = re.findall('make.*: \\*\\*\\*.+', log)\n",
    "            return m1 + m2 + m3 + m4\n",
    "        except Exception as e:\n",
    "            print(str(e),\"\\n\" + \"Unable to decompress... \", file=sys.stderr)\n",
    "            exit(-1)\n",
    "    \n",
    "    except Exception as e:\n",
    "        print(str(e),\"\\n\" + \"Unable to connect to database c = \" + str(cid), file=sys.stderr)\n",
    "        exit(-1)\n",
    "        \n",
    "    finally:\n",
    "        cursor.close()\n",
    "        socket.close()\n",
    "\n",
    "#cids = [61083, 57231, 34513, 52365, 52941, 62788, 73627, 55836, 70534, 55064]\n",
    "#cids = [35706, 57116, 33574, 56926, 44782, 78452, 37565, 65481, 77080, 60274]\n",
    "cids = [31273]\n",
    "for cid in cids:\n",
    "    print('errors for ' + str(cid) + ': ' + str(get_errors(cid, False)))\n",
    "    print('************')\n",
    "        "
   ]
  },
  {
   "cell_type": "code",
   "execution_count": null,
   "metadata": {},
   "outputs": [],
   "source": [
    "import re\n",
    "import MySQLdb\n",
    "import bz2\n",
    "       \n",
    "cids = []\n",
    "try:\n",
    "    socket = MySQLdb.connect(\"148.60.11.195\", \"script\", \"irmadb2019\", \"IrmaDB_prod\")\n",
    "    cursor = socket.cursor()\n",
    "    #query = \"SELECT cid FROM Compilations WHERE core_size=-1 and cid > 30000 and cid < 100000\"\n",
    "    query = \"SELECT cid FROM Compilations WHERE core_size=-1 and cid > 30000 and cid < 33000\"\n",
    "    #query = \"SELECT cid FROM Compilations WHERE cid in ()\"\n",
    "    #cid = 78276 \n",
    "    cursor.execute(query)\n",
    "    row = cursor.fetchone()\n",
    "    while row is not None:\n",
    "        cids.append(int(str(row).replace(\"(\",\"\").replace(\",\",\"\").replace(\")\",\"\")))\n",
    "        row = cursor.fetchone()\n",
    "    print('CIDS - ',cids)\n",
    "\n",
    "    lista = []\n",
    "    listoflist = []\n",
    "    tamanho = 0\n",
    "\n",
    "    for cid in cids:\n",
    "       \n",
    "        query = \"SELECT errlog_file FROM Compilations WHERE cid = %d\" % cid\n",
    "        cursor.execute(query)\n",
    "        errlog_file = cursor.fetchone()\n",
    "        \n",
    "        #print(cid)\n",
    "        \n",
    "        if (errlog_file is None):\n",
    "           print (\"Unable to retrieve cid=\", str(cid))\n",
    "\n",
    "        try:\n",
    "           log = bz2.decompress(errlog_file[0]).decode('utf-8')\n",
    "           # fatal error\n",
    "           #m1 = re.findall('.* error:.+', log)\n",
    "           m1 = re.findall('.* error:.+', log)\n",
    "           #m2 = re.findall('.* undefined reference.+', log)\n",
    "           m2 = re.findall('. undefined reference to `gen_pool.', log)\n",
    "           # '1:' corresponds to the error status I guess\n",
    "           #m3 = re.search('. undefined reference to \\'v4l2.+', log)\n",
    "           #m4 = ('. undefined reference to \\'drm.+', log)\n",
    "           m5 = re.findall('.* 1:.+', log)\n",
    "           # may not be useful: make errors\n",
    "           #m4 = re.findall('make.*: \\*\\*\\*.+', log)\n",
    "           log_error = str(m1) + str(m2) + str(m5)\n",
    "        except Exception as e:\n",
    "           print(str(e),\"\\n\" + \"Unable to decompress... \", file=sys.stderr)\n",
    "           exit(-1)\n",
    "    \n",
    "        ja_existe=False\n",
    "        if tamanho==0:\n",
    "           lista=[log_error,cid]\n",
    "           listoflist.append(lista)\n",
    "           tamanho=1\n",
    "        else:\n",
    "            for i in range(tamanho):\n",
    "                if (listoflist[i][0]==log_error):\n",
    "                    listoflist[i].append(cid)\n",
    "                    ja_existe=True\n",
    "            if ja_existe==False:\n",
    "                lista=[log_error,cid]\n",
    "                listoflist.append(lista)\n",
    "                tamanho=tamanho+1\n",
    "\n",
    "except Exception as e:\n",
    "    print(str(e),\"\\n\" + \"Unable to connect to database c = \" + str(cid), file=sys.stderr)\n",
    "    exit(-1)    \n",
    "finally:\n",
    "    cursor.close()\n",
    "    socket.close()\n",
    "\n",
    "file_log = open('clusters.csv', 'w')\n",
    "\n",
    "for i in range(tamanho):\n",
    "    ncids=len(listoflist[i])\n",
    "    #print(listoflist[i][0],';')\n",
    "    reg = (str(listoflist[i][0])+';')\n",
    "    for j in range(ncids-1):\n",
    "        reg = (reg+str(listoflist[i][j+1])+';')\n",
    "        #print('CIDS: ',listoflist[i][j+1])\n",
    "\n",
    "    file_log.write(reg+'\\n')\n",
    "\n",
    "file_log.close()"
   ]
  },
  {
   "cell_type": "code",
   "execution_count": null,
   "metadata": {},
   "outputs": [],
   "source": [
    "import pandas as pd\n",
    "import numpy as np\n",
    "\n",
    "# download config_bdd30-100.pkl here \n",
    "# https://filesender.renater.fr/?s=download&token=556ae671-4546-493e-f96f-3cd3c1919724#\n",
    "\n",
    "# TODO: excellent \"test\" set since 15K and 30K have not been subject to specialization\n",
    "# pd.read_csv('config_bdd15000-20000.csv') \n",
    "# pd.read_csv('config_bdd20000-30000.csv') \n",
    "rawtuxdata = pd.read_pickle('config_bdd30-100.pkl')\n",
    "\n",
    "basic_head = [\"cid\", \"time\", \"date\"] # \"compile\"\n",
    "size_methods = [\"vmlinux\", \"GZIP-bzImage\", \"GZIP-vmlinux\", \"GZIP\", \"BZIP2-bzImage\", \n",
    "              \"BZIP2-vmlinux\", \"BZIP2\", \"LZMA-bzImage\", \"LZMA-vmlinux\", \"LZMA\", \"XZ-bzImage\", \"XZ-vmlinux\", \"XZ\", \n",
    "              \"LZO-bzImage\", \"LZO-vmlinux\", \"LZO\", \"LZ4-bzImage\", \"LZ4-vmlinux\", \"LZ4\"]\n",
    "\n",
    "print(\"some configurations may have X86_32 (coz we have tested/tried some options and there are in the database) -- we removed them of course\")\n",
    "# we only keep X86_64 configurations\n",
    "#rawtuxdata = rawtuxdata[rawtuxdata['X86_64'] == 'y'] ### TODO: I've impression it's not the most effective way (wrt memory) to filter \n",
    "if 'X86_64' in rawtuxdata.columns:\n",
    "    print(rawtuxdata['X86_64'].describe())\n",
    "    rawtuxdata.query(\"X86_64 == 'y'\", inplace=True) # only keep them"
   ]
  },
  {
   "cell_type": "code",
   "execution_count": null,
   "metadata": {},
   "outputs": [],
   "source": [
    "### TODO: ensure that the same configuration leads to the same compilation status (normally it's the case)\n",
    "# remove entries with same configurations\n",
    "print(str(len(rawtuxdata)) + \" before the removal of some entries (those with same configurations)\")\n",
    "# tuxdata.drop_duplicates(subset=tuxdata.columns.difference(['vmlinux']), inplace=True)\n",
    "rawtuxdata.drop_duplicates(subset=rawtuxdata.columns.difference(size_methods).difference(basic_head), inplace=True)\n",
    "print(str(len(rawtuxdata)) + \" after the removal of some entries (those with same configurations)\")"
   ]
  },
  {
   "cell_type": "code",
   "execution_count": null,
   "metadata": {},
   "outputs": [],
   "source": [
    "cid_to_remove=74459 # compilation time is very low (2 sec)\n",
    "cid_to_remove2=30698 # size is 0! \n",
    "\n",
    "rawtuxdata = rawtuxdata[rawtuxdata.cid != cid_to_remove]\n",
    "rawtuxdata = rawtuxdata[rawtuxdata.cid != cid_to_remove2]"
   ]
  },
  {
   "cell_type": "code",
   "execution_count": null,
   "metadata": {},
   "outputs": [],
   "source": [
    "len(rawtuxdata)"
   ]
  },
  {
   "cell_type": "code",
   "execution_count": null,
   "metadata": {},
   "outputs": [],
   "source": [
    "len(rawtuxdata.query(\"vmlinux == -1\").index)"
   ]
  },
  {
   "cell_type": "code",
   "execution_count": null,
   "metadata": {},
   "outputs": [],
   "source": [
    "def nbyes(row):\n",
    "    return sum(row == \"y\")                    \n",
    "rawtuxdata['nbyes'] = rawtuxdata.apply(nbyes, axis=1)\n",
    "rawtuxdata.sort_values(by=\"nbyes\")[:10]"
   ]
  },
  {
   "cell_type": "code",
   "execution_count": null,
   "metadata": {},
   "outputs": [],
   "source": [
    "import pandas as pd\n",
    "\n",
    "errors = pd.read_csv('errors.csv')\n",
    "\n",
    "rawtuxdata.query(\"vmlinux == -1\", inplace=True) # only keep cids with kernel size == -1 \n",
    "#print (len(rawtuxdata))\n",
    "\n",
    "rawtuxdata['cluster'] = 'null'\n",
    "num = len(rawtuxdata.columns) - 1 \n",
    "\n",
    "i = 0\n",
    "for row in rawtuxdata.iterrows():\n",
    "    cid = rawtuxdata.iloc[i, 0]\n",
    "    log = errors.query(\"cid == \" + str(cid))['error'].iloc[0]\n",
    "    rawtuxdata.iloc[i, num] = log\n",
    "    i = i+1\n",
    "\n",
    "rawtuxdata[:10]\n",
    "  \n",
    "#if (not (errors.query(\"cid == \" + str(cid)).empty)):\n",
    "    "
   ]
  },
  {
   "cell_type": "code",
   "execution_count": null,
   "metadata": {},
   "outputs": [],
   "source": [
    "errors = pd.read_csv('errors.csv')\n",
    "clusters = []\n",
    "\n",
    "#rawtuxdata.query(\"vmlinux == -1\", inplace=True) \n",
    "#print (len(rawtuxdata))\n",
    "#rawtuxdata['cluster'] = 'null'\n",
    "#num = len(rawtuxdata.columns) - 1 \n",
    "# query(\"vmlinux == -1\").\n",
    "i = 0\n",
    "for row in rawtuxdata.iterrows():\n",
    "    cid = row[1]['cid']\n",
    "    if (row[1]['vmlinux'] != -1):\n",
    "        log = 'NO_FAILURE'\n",
    "    else:\n",
    "        cid_error = errors.query(\"cid == \" + str(cid))\n",
    "        if (len(cid_error) > 0):\n",
    "            log = cid_error['error'].iloc[0]\n",
    "        else:\n",
    "            print(\"strange case (no cid?)\")\n",
    "    clusters.append(log)\n",
    "    #rawtuxdata.iloc[i, num] = log\n",
    "#    i = i + 1\n",
    "#rawtuxdata[:10]\n",
    "#pd.merge(rawtuxdata, errors, on='cid', how='outer')\n",
    "\n",
    "rawtuxdata['cluster_error'] = clusters"
   ]
  },
  {
   "cell_type": "code",
   "execution_count": null,
   "metadata": {},
   "outputs": [],
   "source": [
    "rawtuxdata.query(\"cluster_error != 'NO_FAILURE'\")[['cid', 'cluster_error', 'vmlinux']][:10]"
   ]
  },
  {
   "cell_type": "code",
   "execution_count": null,
   "metadata": {},
   "outputs": [],
   "source": [
    "rawtuxdata.query(\"AIC7XXX_BUILD_FIRMWARE == 'y'\")['cluster_error'].unique()"
   ]
  },
  {
   "cell_type": "code",
   "execution_count": null,
   "metadata": {},
   "outputs": [],
   "source": [
    "#rawtuxdata.cluster_error.count()\n",
    "rawtuxdata.query(\"AIC7XXX_BUILD_FIRMWARE == 'y'\").groupby('cluster_error').count()[['cid']]"
   ]
  },
  {
   "cell_type": "code",
   "execution_count": null,
   "metadata": {},
   "outputs": [],
   "source": [
    "rawtuxdata.query(\"AIC7XXX_BUILD_FIRMWARE == 'y' & cluster_error == 'L24'\").groupby(['AIC79XX_BUILD_FIRMWARE', 'WANXL_BUILD_FIRMWARE', 'GENERIC_ALLOCATOR', 'DRM_VBOXVIDEO']).count()[['cid']]\n",
    "\n",
    "#in 10106 of 1149 errors the option GENERIC_ALLOCATOR is also selected\n"
   ]
  },
  {
   "cell_type": "code",
   "execution_count": null,
   "metadata": {},
   "outputs": [],
   "source": [
    "rawtuxdata.query(\"GENERIC_ALLOCATOR == 'y'\").groupby('cluster_error').count()[['cid']]"
   ]
  },
  {
   "cell_type": "code",
   "execution_count": null,
   "metadata": {},
   "outputs": [],
   "source": [
    "rawtuxdata.query(\"AIC7XXX_BUILD_FIRMWARE == 'y'\")['cid'].unique()"
   ]
  },
  {
   "cell_type": "code",
   "execution_count": null,
   "metadata": {},
   "outputs": [],
   "source": [
    "from pandas import DataFrame\n",
    "import MySQLdb\n",
    "import bz2\n",
    "\n",
    "cids = []\n",
    "errors = []\n",
    "       \n",
    "try:\n",
    "    socket = MySQLdb.connect(\"148.60.11.195\", \"script\", \"irmadb2019\", \"IrmaDB_prod\")\n",
    "    cursor = socket.cursor()\n",
    "    cursor.execute(\"SELECT cid, errlog_file FROM Compilations WHERE core_size = -1 and cid >= 30000 and cid <= 100000\")\n",
    "    #cursor.execute(\"SELECT cid, errlog_file FROM Compilations WHERE cid in (35706, 57116, 33574, 56926, 44782, 78452, 37565, 65481, 77080, 60274)\")\n",
    "    \n",
    "    for row in cursor.fetchall():\n",
    "        cid = row[0]   \n",
    "        if (row[1] is None):\n",
    "           print (\"Unable to retrieve cid=\", str(cid))\n",
    "        try:\n",
    "           log_error = bz2.decompress(row[1]).decode('utf-8')\n",
    "           #log_error = log_error.replace('\\r', '').replace('\\n', '')\n",
    "        except Exception as e:\n",
    "           print(str(e),\"\\n\" + \"Unable to decompress... \", file=sys.stderr)\n",
    "           exit(-1)\n",
    "        \n",
    "        cids.append (cid)\n",
    "        errors.append (log_error)\n",
    "    \n",
    "    Errlogs = {'cid': cids, 'error_message': errors}\n",
    "    df = DataFrame(Errlogs, columns= ['cid', 'error_message'])\n",
    "    export_csv = df.to_csv ('errlogs.csv', index = None, header=True) \n",
    "    \n",
    "except Exception as e:\n",
    "    print(str(e),\"\\n\" + \"Unable to connect to database c = \" + str(cid), file=sys.stderr)\n",
    "    exit(-1)    \n",
    "finally:\n",
    "    cursor.close()\n",
    "    socket.close()"
   ]
  },
  {
   "cell_type": "code",
   "execution_count": null,
   "metadata": {},
   "outputs": [],
   "source": [
    "df['cid']"
   ]
  },
  {
   "cell_type": "code",
   "execution_count": null,
   "metadata": {},
   "outputs": [],
   "source": [
    "df.query(\"cid == '57116'\")['error_message']"
   ]
  },
  {
   "cell_type": "code",
   "execution_count": null,
   "metadata": {},
   "outputs": [],
   "source": [
    "len(df)"
   ]
  },
  {
   "cell_type": "code",
   "execution_count": null,
   "metadata": {},
   "outputs": [],
   "source": [
    "df.info(verbose=False)"
   ]
  },
  {
   "cell_type": "code",
   "execution_count": null,
   "metadata": {},
   "outputs": [],
   "source": [
    "df.to_pickle ('errlogs.pkl') # , index = None, header=True) "
   ]
  },
  {
   "cell_type": "code",
   "execution_count": null,
   "metadata": {},
   "outputs": [],
   "source": []
  }
 ],
 "metadata": {
  "kernelspec": {
   "display_name": "Python 3",
   "language": "python",
   "name": "python3"
  },
  "language_info": {
   "codemirror_mode": {
    "name": "ipython",
    "version": 3
   },
   "file_extension": ".py",
   "mimetype": "text/x-python",
   "name": "python",
   "nbconvert_exporter": "python",
   "pygments_lexer": "ipython3",
   "version": "3.7.2"
  }
 },
 "nbformat": 4,
 "nbformat_minor": 2
}
