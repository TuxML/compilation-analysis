{
 "cells": [
  {
   "cell_type": "code",
   "execution_count": 1,
   "metadata": {},
   "outputs": [],
   "source": [
    "import pandas as pd\n",
    "\n",
    "errorlogs = pd.read_pickle('errlogs.pkl')"
   ]
  },
  {
   "cell_type": "code",
   "execution_count": 2,
   "metadata": {},
   "outputs": [
    {
     "data": {
      "text/plain": [
       "3538"
      ]
     },
     "execution_count": 2,
     "metadata": {},
     "output_type": "execute_result"
    }
   ],
   "source": [
    "len(errorlogs)"
   ]
  },
  {
   "cell_type": "code",
   "execution_count": 11,
   "metadata": {},
   "outputs": [
    {
     "name": "stdout",
     "output_type": "stream",
     "text": [
      "cid\n",
      "error_message\n"
     ]
    }
   ],
   "source": [
    "errorlogs"
   ]
  },
  {
   "cell_type": "code",
   "execution_count": 90,
   "metadata": {},
   "outputs": [],
   "source": [
    "from enum import Enum \n",
    "class ErrorLog(Enum):\n",
    "    BLACKLIGHT = 1,\n",
    "    CONFIG_NLS_DEFAULT = 2,\n",
    "    CRC32 = 3,\n",
    "    V4L2 = 4, \n",
    "    OVERFLOW2 = 5, \n",
    "    ULPI = 6, \n",
    "    PCM = 7,\n",
    "    TTM = 8, \n",
    "    as68k = 9, \n",
    "    GEN = 10, \n",
    "    AICDB = 11\n",
    "\n",
    "\n",
    "    \n",
    "\n",
    "patterns = { ErrorLog.BLACKLIGHT : \"undefined reference to `backlight_device\",\n",
    "            ErrorLog.CONFIG_NLS_DEFAULT : \"CONFIG_NLS_DEFAULT\",\n",
    "            ErrorLog.CRC32 : 'undefined reference to `crc32', \n",
    "            ErrorLog.V4L2 : 'undefined reference to `v4l2',\n",
    "            ErrorLog.OVERFLOW2 : '__read_overflow2',\n",
    "            ErrorLog.ULPI : 'undefined reference to `ulpi', # 100-126K dataset\n",
    "            ErrorLog.PCM : 'undefined reference to `atmel_pcm_dma_platform', # 100-126K dataset\n",
    "            ErrorLog.TTM : 'undefined reference to `ttm', \n",
    "            ErrorLog.as68k: 'as68k: not found',\n",
    "            ErrorLog.GEN : 'undefined reference to `gen_pool', \n",
    "            ErrorLog.AICDB : 'aicdb.h: No such file or directory'\n",
    "           }\n",
    "\n",
    "pattern_name = [name for name, member in ErrorLog.__members__.items()]\n",
    "error_pattern = pd.DataFrame(columns=pattern_name, index=errorlogs['cid'])\n",
    "error_pattern.fillna(False, inplace=True)\n",
    "\n",
    "for i, errorlog in errorlogs.iterrows():\n",
    "    error = errorlog['error_message']\n",
    "    cid = errorlog['cid']\n",
    "    for k, p in patterns.items():\n",
    "        if (p in error):\n",
    "            error_pattern.loc[cid][k.name] = True\n",
    "            #print (k.name, \"found in configuration\", cid)\n",
    "            \n",
    "            \n",
    "            \n"
   ]
  },
  {
   "cell_type": "code",
   "execution_count": 91,
   "metadata": {},
   "outputs": [
    {
     "data": {
      "text/plain": [
       "False    3533\n",
       "True        5\n",
       "Name: CONFIG_NLS_DEFAULT, dtype: int64"
      ]
     },
     "execution_count": 91,
     "metadata": {},
     "output_type": "execute_result"
    }
   ],
   "source": [
    "#error_pattern.loc[99949]['BLACKLIGHT'] = True\n",
    "error_pattern['CONFIG_NLS_DEFAULT'].value_counts()\n",
    "#error_pattern.hist()"
   ]
  },
  {
   "cell_type": "code",
   "execution_count": 92,
   "metadata": {},
   "outputs": [
    {
     "data": {
      "text/plain": [
       "BLACKLIGHT              10\n",
       "CONFIG_NLS_DEFAULT       5\n",
       "CRC32                    2\n",
       "V4L2                     9\n",
       "OVERFLOW2               86\n",
       "ULPI                     0\n",
       "PCM                      0\n",
       "TTM                     11\n",
       "as68k                  550\n",
       "GEN                    279\n",
       "AICDB                 2514\n",
       "dtype: int64"
      ]
     },
     "execution_count": 92,
     "metadata": {},
     "output_type": "execute_result"
    },
    {
     "data": {
      "image/png": "[encoded data removed]",
      "text/plain": [
       "<Figure size 432x288 with 1 Axes>"
      ]
     },
     "metadata": {
      "needs_background": "light"
     },
     "output_type": "display_data"
    }
   ],
   "source": [
    "def nb_patterns(row):\n",
    "    return sum(row == True)                    \n",
    "error_pattern['nb_patterns'] = error_pattern.apply(nb_patterns, axis=1)\n",
    "pattern_frequencies = error_pattern[pattern_name].apply(nb_patterns, axis=0)\n",
    "pattern_frequencies.plot(kind='bar')\n",
    "pattern_frequencies"
   ]
  },
  {
   "cell_type": "code",
   "execution_count": 93,
   "metadata": {},
   "outputs": [
    {
     "data": {
      "text/html": [
       "<div>\n",
       "<style scoped>\n",
       "    .dataframe tbody tr th:only-of-type {\n",
       "        vertical-align: middle;\n",
       "    }\n",
       "\n",
       "    .dataframe tbody tr th {\n",
       "        vertical-align: top;\n",
       "    }\n",
       "\n",
       "    .dataframe thead th {\n",
       "        text-align: right;\n",
       "    }\n",
       "</style>\n",
       "<table border=\"1\" class=\"dataframe\">\n",
       "  <thead>\n",
       "    <tr style=\"text-align: right;\">\n",
       "      <th></th>\n",
       "      <th>BLACKLIGHT</th>\n",
       "      <th>CONFIG_NLS_DEFAULT</th>\n",
       "      <th>CRC32</th>\n",
       "      <th>V4L2</th>\n",
       "      <th>OVERFLOW2</th>\n",
       "      <th>ULPI</th>\n",
       "      <th>PCM</th>\n",
       "      <th>TTM</th>\n",
       "      <th>as68k</th>\n",
       "      <th>GEN</th>\n",
       "      <th>AICDB</th>\n",
       "      <th>nb_patterns</th>\n",
       "    </tr>\n",
       "    <tr>\n",
       "      <th>cid</th>\n",
       "      <th></th>\n",
       "      <th></th>\n",
       "      <th></th>\n",
       "      <th></th>\n",
       "      <th></th>\n",
       "      <th></th>\n",
       "      <th></th>\n",
       "      <th></th>\n",
       "      <th></th>\n",
       "      <th></th>\n",
       "      <th></th>\n",
       "      <th></th>\n",
       "    </tr>\n",
       "  </thead>\n",
       "  <tbody>\n",
       "    <tr>\n",
       "      <th>51714</th>\n",
       "      <td>False</td>\n",
       "      <td>False</td>\n",
       "      <td>False</td>\n",
       "      <td>False</td>\n",
       "      <td>False</td>\n",
       "      <td>False</td>\n",
       "      <td>False</td>\n",
       "      <td>False</td>\n",
       "      <td>True</td>\n",
       "      <td>False</td>\n",
       "      <td>True</td>\n",
       "      <td>2</td>\n",
       "    </tr>\n",
       "    <tr>\n",
       "      <th>58512</th>\n",
       "      <td>False</td>\n",
       "      <td>False</td>\n",
       "      <td>False</td>\n",
       "      <td>False</td>\n",
       "      <td>False</td>\n",
       "      <td>False</td>\n",
       "      <td>False</td>\n",
       "      <td>False</td>\n",
       "      <td>True</td>\n",
       "      <td>False</td>\n",
       "      <td>True</td>\n",
       "      <td>2</td>\n",
       "    </tr>\n",
       "    <tr>\n",
       "      <th>83702</th>\n",
       "      <td>False</td>\n",
       "      <td>False</td>\n",
       "      <td>False</td>\n",
       "      <td>False</td>\n",
       "      <td>False</td>\n",
       "      <td>False</td>\n",
       "      <td>False</td>\n",
       "      <td>False</td>\n",
       "      <td>True</td>\n",
       "      <td>False</td>\n",
       "      <td>True</td>\n",
       "      <td>2</td>\n",
       "    </tr>\n",
       "    <tr>\n",
       "      <th>83619</th>\n",
       "      <td>False</td>\n",
       "      <td>False</td>\n",
       "      <td>False</td>\n",
       "      <td>False</td>\n",
       "      <td>False</td>\n",
       "      <td>False</td>\n",
       "      <td>False</td>\n",
       "      <td>False</td>\n",
       "      <td>True</td>\n",
       "      <td>False</td>\n",
       "      <td>True</td>\n",
       "      <td>2</td>\n",
       "    </tr>\n",
       "    <tr>\n",
       "      <th>60569</th>\n",
       "      <td>False</td>\n",
       "      <td>False</td>\n",
       "      <td>False</td>\n",
       "      <td>False</td>\n",
       "      <td>False</td>\n",
       "      <td>False</td>\n",
       "      <td>False</td>\n",
       "      <td>False</td>\n",
       "      <td>True</td>\n",
       "      <td>False</td>\n",
       "      <td>True</td>\n",
       "      <td>2</td>\n",
       "    </tr>\n",
       "    <tr>\n",
       "      <th>77528</th>\n",
       "      <td>False</td>\n",
       "      <td>False</td>\n",
       "      <td>False</td>\n",
       "      <td>False</td>\n",
       "      <td>False</td>\n",
       "      <td>False</td>\n",
       "      <td>False</td>\n",
       "      <td>False</td>\n",
       "      <td>True</td>\n",
       "      <td>False</td>\n",
       "      <td>True</td>\n",
       "      <td>2</td>\n",
       "    </tr>\n",
       "    <tr>\n",
       "      <th>83577</th>\n",
       "      <td>False</td>\n",
       "      <td>False</td>\n",
       "      <td>False</td>\n",
       "      <td>False</td>\n",
       "      <td>False</td>\n",
       "      <td>False</td>\n",
       "      <td>False</td>\n",
       "      <td>False</td>\n",
       "      <td>True</td>\n",
       "      <td>False</td>\n",
       "      <td>True</td>\n",
       "      <td>2</td>\n",
       "    </tr>\n",
       "    <tr>\n",
       "      <th>39669</th>\n",
       "      <td>False</td>\n",
       "      <td>False</td>\n",
       "      <td>False</td>\n",
       "      <td>False</td>\n",
       "      <td>False</td>\n",
       "      <td>False</td>\n",
       "      <td>False</td>\n",
       "      <td>False</td>\n",
       "      <td>True</td>\n",
       "      <td>False</td>\n",
       "      <td>True</td>\n",
       "      <td>2</td>\n",
       "    </tr>\n",
       "    <tr>\n",
       "      <th>71521</th>\n",
       "      <td>False</td>\n",
       "      <td>False</td>\n",
       "      <td>False</td>\n",
       "      <td>False</td>\n",
       "      <td>False</td>\n",
       "      <td>False</td>\n",
       "      <td>False</td>\n",
       "      <td>False</td>\n",
       "      <td>True</td>\n",
       "      <td>False</td>\n",
       "      <td>True</td>\n",
       "      <td>2</td>\n",
       "    </tr>\n",
       "    <tr>\n",
       "      <th>44440</th>\n",
       "      <td>False</td>\n",
       "      <td>False</td>\n",
       "      <td>False</td>\n",
       "      <td>False</td>\n",
       "      <td>False</td>\n",
       "      <td>False</td>\n",
       "      <td>False</td>\n",
       "      <td>False</td>\n",
       "      <td>True</td>\n",
       "      <td>False</td>\n",
       "      <td>True</td>\n",
       "      <td>2</td>\n",
       "    </tr>\n",
       "  </tbody>\n",
       "</table>\n",
       "</div>"
      ],
      "text/plain": [
       "       BLACKLIGHT  CONFIG_NLS_DEFAULT  CRC32   V4L2  OVERFLOW2   ULPI    PCM  \\\n",
       "cid                                                                            \n",
       "51714       False               False  False  False      False  False  False   \n",
       "58512       False               False  False  False      False  False  False   \n",
       "83702       False               False  False  False      False  False  False   \n",
       "83619       False               False  False  False      False  False  False   \n",
       "60569       False               False  False  False      False  False  False   \n",
       "77528       False               False  False  False      False  False  False   \n",
       "83577       False               False  False  False      False  False  False   \n",
       "39669       False               False  False  False      False  False  False   \n",
       "71521       False               False  False  False      False  False  False   \n",
       "44440       False               False  False  False      False  False  False   \n",
       "\n",
       "         TTM  as68k    GEN  AICDB  nb_patterns  \n",
       "cid                                             \n",
       "51714  False   True  False   True            2  \n",
       "58512  False   True  False   True            2  \n",
       "83702  False   True  False   True            2  \n",
       "83619  False   True  False   True            2  \n",
       "60569  False   True  False   True            2  \n",
       "77528  False   True  False   True            2  \n",
       "83577  False   True  False   True            2  \n",
       "39669  False   True  False   True            2  \n",
       "71521  False   True  False   True            2  \n",
       "44440  False   True  False   True            2  "
      ]
     },
     "execution_count": 93,
     "metadata": {},
     "output_type": "execute_result"
    }
   ],
   "source": [
    "error_pattern.sort_values(by='nb_patterns', ascending=False)[:10]"
   ]
  },
  {
   "cell_type": "code",
   "execution_count": 71,
   "metadata": {},
   "outputs": [],
   "source": [
    "import matplotlib.pyplot as plt"
   ]
  },
  {
   "cell_type": "code",
   "execution_count": 94,
   "metadata": {},
   "outputs": [],
   "source": [
    "#error_pattern['CONFIG_NLS_DEFAULT'].value_counts().plot(kind='bar')"
   ]
  },
  {
   "cell_type": "code",
   "execution_count": null,
   "metadata": {},
   "outputs": [],
   "source": []
  }
 ],
 "metadata": {
  "kernelspec": {
   "display_name": "Python 3",
   "language": "python",
   "name": "python3"
  },
  "language_info": {
   "codemirror_mode": {
    "name": "ipython",
    "version": 3
   },
   "file_extension": ".py",
   "mimetype": "text/x-python",
   "name": "python",
   "nbconvert_exporter": "python",
   "pygments_lexer": "ipython3",
   "version": "3.7.2"
  }
 },
 "nbformat": 4,
 "nbformat_minor": 2
}
