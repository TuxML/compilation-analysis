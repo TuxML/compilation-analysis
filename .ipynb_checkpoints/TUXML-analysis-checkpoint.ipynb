{
 "cells": [
  {
   "cell_type": "code",
   "execution_count": 1,
   "metadata": {},
   "outputs": [
    {
     "name": "stdout",
     "output_type": "stream",
     "text": [
      "some configurations may have X86_32 (coz we have tested/tried some options and there are in the database) -- we removed them of course\n",
      "count     69459\n",
      "unique        2\n",
      "top           y\n",
      "freq      69423\n",
      "Name: X86_64, dtype: object\n"
     ]
    }
   ],
   "source": [
    "import pandas as pd\n",
    "import numpy as np\n",
    "\n",
    "\n",
    "# download config_bdd30-100.pkl here \n",
    "# https://filesender.renater.fr/?s=download&token=556ae671-4546-493e-f96f-3cd3c1919724#\n",
    "\n",
    "# TODO: excellent \"test\" set since 15K and 30K have not been subject to specialization\n",
    "# pd.read_csv('config_bdd15000-20000.csv') \n",
    "# pd.read_csv('config_bdd20000-30000.csv') \n",
    "rawtuxdata = pd.read_pickle('config_bdd30-100.pkl')\n",
    "\n",
    "basic_head = [\"cid\", \"time\", \"date\"] # \"compile\"\n",
    "size_methods = [\"vmlinux\", \"GZIP-bzImage\", \"GZIP-vmlinux\", \"GZIP\", \"BZIP2-bzImage\", \n",
    "              \"BZIP2-vmlinux\", \"BZIP2\", \"LZMA-bzImage\", \"LZMA-vmlinux\", \"LZMA\", \"XZ-bzImage\", \"XZ-vmlinux\", \"XZ\", \n",
    "              \"LZO-bzImage\", \"LZO-vmlinux\", \"LZO\", \"LZ4-bzImage\", \"LZ4-vmlinux\", \"LZ4\"]\n",
    "\n",
    "print(\"some configurations may have X86_32 (coz we have tested/tried some options and there are in the database) -- we removed them of course\")\n",
    "# we only keep X86_64 configurations\n",
    "#rawtuxdata = rawtuxdata[rawtuxdata['X86_64'] == 'y'] ### TODO: I've impression it's not the most effective way (wrt memory) to filter \n",
    "if 'X86_64' in rawtuxdata.columns:\n",
    "    print(rawtuxdata['X86_64'].describe())\n",
    "    rawtuxdata.query(\"X86_64 == 'y'\", inplace=True) # only keep them\n"
   ]
  },
  {
   "cell_type": "code",
   "execution_count": 2,
   "metadata": {},
   "outputs": [
    {
     "name": "stdout",
     "output_type": "stream",
     "text": [
      "69423 before the removal of some entries (those with same configurations)\n",
      "69364 after the removal of some entries (those with same configurations)\n"
     ]
    }
   ],
   "source": [
    "### TODO: ensure that the same configuration leads to the same compilation status (normally it's the case)\n",
    "# remove entries with same configurations\n",
    "print(str(len(rawtuxdata)) + \" before the removal of some entries (those with same configurations)\")\n",
    "# tuxdata.drop_duplicates(subset=tuxdata.columns.difference(['vmlinux']), inplace=True)\n",
    "rawtuxdata.drop_duplicates(subset=rawtuxdata.columns.difference(size_methods).difference(basic_head), inplace=True)\n",
    "print(str(len(rawtuxdata)) + \" after the removal of some entries (those with same configurations)\")"
   ]
  },
  {
   "cell_type": "code",
   "execution_count": 3,
   "metadata": {},
   "outputs": [],
   "source": [
    "cid_to_remove=74459 # compilation time is very low (2 sec)\n",
    "cid_to_remove2=30698 # size is 0! \n",
    "\n",
    "rawtuxdata = rawtuxdata[rawtuxdata.cid != cid_to_remove]\n",
    "rawtuxdata = rawtuxdata[rawtuxdata.cid != cid_to_remove2]"
   ]
  },
  {
   "cell_type": "code",
   "execution_count": 4,
   "metadata": {},
   "outputs": [
    {
     "data": {
      "text/plain": [
       "69362"
      ]
     },
     "execution_count": 4,
     "metadata": {},
     "output_type": "execute_result"
    }
   ],
   "source": [
    "# assert (len(rawtuxdata) == 20001)\n",
    "len(rawtuxdata)"
   ]
  },
  {
   "cell_type": "code",
   "execution_count": 5,
   "metadata": {},
   "outputs": [
    {
     "data": {
      "text/plain": [
       "3507"
      ]
     },
     "execution_count": 5,
     "metadata": {},
     "output_type": "execute_result"
    }
   ],
   "source": [
    "len(rawtuxdata.query(\"vmlinux == -1\").index)"
   ]
  },
  {
   "cell_type": "code",
   "execution_count": null,
   "metadata": {},
   "outputs": [],
   "source": [
    "def nbyes(row):\n",
    "    return sum(row == \"y\")                    \n",
    "rawtuxdata['nbyes'] = rawtuxdata.apply(nbyes, axis=1)"
   ]
  },
  {
   "cell_type": "code",
   "execution_count": null,
   "metadata": {},
   "outputs": [],
   "source": [
    "rawtuxdata.sort_values(by=\"nbyes\")[:10]"
   ]
  },
  {
   "cell_type": "code",
   "execution_count": null,
   "metadata": {},
   "outputs": [],
   "source": [
    "# tinykernel\n",
    "rawtuxdata.query(\"vmlinux == 7317008\") #.iloc[0]"
   ]
  },
  {
   "cell_type": "code",
   "execution_count": null,
   "metadata": {},
   "outputs": [],
   "source": [
    "rawtuxdata.query(\"GENERIC_ALLOCATOR == 'y'\") # & DRM_VBOXVIDEO == 'y'\")\n",
    "#rawtuxdata.query(\"AIC7XXX_BUILD_FIRMWARE == 'y'\")\n",
    "#rawtuxdata.query(\"X86_64 == 'y'\")"
   ]
  },
  {
   "cell_type": "code",
   "execution_count": null,
   "metadata": {},
   "outputs": [],
   "source": [
    "rawtuxdata.query(\"vmlinux != -1\").sort_values(by=\"vmlinux\")[:20]"
   ]
  },
  {
   "cell_type": "code",
   "execution_count": null,
   "metadata": {},
   "outputs": [],
   "source": [
    "compilation_failures = len(rawtuxdata.query(\"vmlinux == -1\").index)\n",
    "compilation_successes = len(rawtuxdata.query(\"vmlinux != -1\").index)\n",
    "n_compilations = len(rawtuxdata.index)\n",
    "assert(compilation_successes + compilation_failures == n_compilations)\n",
    "compilation_failure_percentage = (compilation_failures / n_compilations) * 100\n",
    "print(\"compilation failures:\", compilation_failures, \"out of\", n_compilations, \"(\", compilation_failure_percentage, \"%)\")"
   ]
  },
  {
   "cell_type": "code",
   "execution_count": null,
   "metadata": {},
   "outputs": [],
   "source": [
    "# BUGS EXPLORATION\n",
    "def bug_exploration():\n",
    "    #rawtuxdata.query(\"AIC7XXX_BUILD_FIRMWARE == 'y'\")[['cid', 'vmlinux']]\n",
    "    #rawtuxdata.query(\"AIC79XX_BUILD_FIRMWARE == 'y'\")[['cid', 'vmlinux']]\n",
    "    #rawtuxdata.query(\"WANXL_BUILD_FIRMWARE == 'y'\")[['cid', 'vmlinux']]\n",
    "    #rawtuxdata.query(\"GENERIC_ALLOCATOR == 'n' & DRM_VBOXVIDEO == 'y'\")[['cid', 'vmlinux']]\n",
    "    #rawtuxdata.query(\"GENERIC_ALLOCATOR == 'y' & DRM_VBOXVIDEO == 'y'\")[['cid', 'vmlinux']]\n",
    "    #rawtuxdata.query(\"GENERIC_ALLOCATOR == 'n' & DRM_VBOXVIDEO == 'm'\")[['cid', 'vmlinux']]\n",
    "    return rawtuxdata.query(\"DRM_VBOXVIDEO == 'y'\")[['cid', 'vmlinux']]\n",
    "\n",
    "#bug_exploration()\n",
    "\n",
    "\n",
    "# y or n values\n",
    "n_AIC7XXX_alone = len(rawtuxdata.query(\"AIC7XXX_BUILD_FIRMWARE == 'y'\").index)\n",
    "n_AIC79XX_alone = len(rawtuxdata.query(\"AIC79XX_BUILD_FIRMWARE == 'y'\").index)\n",
    "# masking effects!\n",
    "n_AIC_both = len(rawtuxdata.query(\"AIC79XX_BUILD_FIRMWARE == 'y' & AIC7XXX_BUILD_FIRMWARE == 'y'\").index)\n",
    "n_AIC_or = len(rawtuxdata.query(\"AIC7XXX_BUILD_FIRMWARE == 'y' | AIC79XX_BUILD_FIRMWARE == 'y'\").index)\n",
    "print(\"AIC7XXX_BUILD_FIRMWARE (without 79XX)\", n_AIC7XXX_alone - n_AIC_both, \"AIC79XX_BUILD_FIRMWARE (without X7XX)\", n_AIC79XX_alone - n_AIC_both)\n",
    "print(\"AIC7XXX_BUILD_FIRMWARE or AIC79XX_BUILD_FIRMWARE\",  n_AIC_or)\n",
    "print(\"Without the 2 major configuration bugs, caused by 2 individual options, it remains\", len(rawtuxdata.query(\"AIC7XXX_BUILD_FIRMWARE != 'y' & AIC79XX_BUILD_FIRMWARE != 'y' & vmlinux == -1\").index))\n",
    "# masking effects!\n",
    "# option WANXL_BUILD_FIRMWARE responsible of many bugs, except... 1\n",
    "n_wanxl = len(rawtuxdata.query(\"WANXL_BUILD_FIRMWARE == 'y' & (AIC7XXX_BUILD_FIRMWARE != 'y' & AIC79XX_BUILD_FIRMWARE != 'y')\").index)\n",
    "print(\"WANXL_BUILD_FIRMWARE\", n_wanxl)\n",
    "# same as previously, but we only keep compilation failures... and surprise:\n",
    "n_wanxl_failure = len(rawtuxdata.query(\"WANXL_BUILD_FIRMWARE == 'y' & (AIC7XXX_BUILD_FIRMWARE != 'y' & AIC79XX_BUILD_FIRMWARE != 'y' & vmlinux == -1)\").index)\n",
    "print(\"There is apparently one subtle case with WANXL_BUILD_FIRMWARE=y causing **NO** configuration bug (with VIDEO_RCAR_VIN)\", n_wanxl_failure) # len(rawtuxdata.query(\"GENERIC_ALLOCATOR == 'y' & vmlinux == -1\").index)\n",
    "\n",
    "assert ((compilation_failures - (n_AIC_or + n_wanxl_failure)) == len(rawtuxdata.query(\"WANXL_BUILD_FIRMWARE != 'y' & AIC7XXX_BUILD_FIRMWARE != 'y' & AIC79XX_BUILD_FIRMWARE != 'y' & vmlinux == -1\").index))\n",
    "print(\"still tracking\", (compilation_failures - (n_AIC_or + n_wanxl_failure)), \"configuration bugs\")\n",
    "print(\"let's now investigate GENERIC_ALLOCATOR\")\n",
    "len(rawtuxdata.query(\"GENERIC_ALLOCATOR == 'y' & WANXL_BUILD_FIRMWARE != 'y' & AIC7XXX_BUILD_FIRMWARE != 'y' & AIC79XX_BUILD_FIRMWARE != 'y' & vmlinux == -1\").index), len(rawtuxdata.query(\"GENERIC_ALLOCATOR == 'n' & WANXL_BUILD_FIRMWARE != 'y' & AIC7XXX_BUILD_FIRMWARE != 'y' & AIC79XX_BUILD_FIRMWARE != 'y' & vmlinux == -1\").index)\n",
    "#len(rawtuxdata.query(\"WANXL_BUILD_FIRMWARE != 'y' & AIC7XXX_BUILD_FIRMWARE != 'y' & AIC79XX_BUILD_FIRMWARE != 'y' & vmlinux == -1\").index)\n",
    "#len(rawtuxdata.query(\"vmlinux == -1\").index)\n",
    "\n",
    "#n_AIC_or + n_wanxl"
   ]
  },
  {
   "cell_type": "code",
   "execution_count": null,
   "metadata": {},
   "outputs": [],
   "source": [
    "rawtuxdata.sort_values(by='cid')"
   ]
  },
  {
   "cell_type": "code",
   "execution_count": null,
   "metadata": {},
   "outputs": [],
   "source": [
    "# Juliana \n",
    "rawtuxdata.query(\"AIC7XXX_BUILD_FIRMWARE == 'y'\").sample(n=10)['cid'].values\n",
    "#len(rawtuxdata.query(\"AIC7XXX_BUILD_FIRMWARE == 'y'\").index)\n",
    "\n",
    "# Djamel \n",
    "rawtuxdata.query(\"AIC79XX_BUILD_FIRMWARE == 'y'\").sample(n=10)['cid'].values\n",
    "len(rawtuxdata.query(\"AIC79XX_BUILD_FIRMWARE == 'y'\").index)\n",
    "\n",
    "# Arnaud \n",
    "#rawtuxdata.query(\"WANXL_BUILD_FIRMWARE == 'y' & (AIC7XXX_BUILD_FIRMWARE != 'y' & AIC79XX_BUILD_FIRMWARE != 'y')\").sample(n=10)['cid'].values\n",
    "#rawtuxdata.query(\"WANXL_BUILD_FIRMWARE == 'y' & (AIC7XXX_BUILD_FIRMWARE == 'y' | AIC79XX_BUILD_FIRMWARE == 'y')\")['cid'].values\n",
    "# rawtuxdata.query(\"WANXL_BUILD_FIRMWARE == 'y' & AIC7XXX_BUILD_FIRMWARE == 'y'\")['cid'].values\n",
    "\n",
    "# rawtuxdata.query(\"WANXL_BUILD_FIRMWARE == 'y'\")['cid'].values\n",
    "\n",
    "# Mathieu \n",
    "# GENERIC_ALLOCATOR == 'y' + DRM_VBOXVIDEO\n",
    "# interestingly: 'm' (module) does not lead to a bug! < 1.5\n",
    "# ['vmlinux', 'cid']\n",
    "# rawtuxdata.query(\"GENERIC_ALLOCATOR == 'n' & DRM_VBOXVIDEO == 'y' & AIC7XXX_BUILD_FIRMWARE == 'y'\")['cid'].values\n",
    "# rawtuxdata.query(\"GENERIC_ALLOCATOR == 'n' & DRM_VBOXVIDEO == 'y' & WANXL_BUILD_FIRMWARE == 'y'\")['cid'].values\n",
    "rawtuxdata.query(\"GENERIC_ALLOCATOR == 'n' & DRM_VBOXVIDEO == 'y' & WANXL_BUILD_FIRMWARE != 'y' & AIC7XXX_BUILD_FIRMWARE != 'y' & AIC79XX_BUILD_FIRMWARE != 'y'\")['cid'].values"
   ]
  },
  {
   "cell_type": "code",
   "execution_count": null,
   "metadata": {},
   "outputs": [],
   "source": [
    "# masking effect\n",
    "# Mathieu\n",
    "## is there a masking effect between?\n",
    "#rawtuxdata.query(\"GENERIC_ALLOCATOR == 'n' & DRM_VBOXVIDEO == 'y' & AIC79XX_BUILD_FIRMWARE == 'y'\")\n",
    "## is there a masking effect between?\n",
    "# rawtuxdata.query(\"GENERIC_ALLOCATOR == 'n' & DRM_VBOXVIDEO == 'y' & AIC7XXX_BUILD_FIRMWARE == 'y'\")\n",
    "## is there a masking effect between?\n",
    "# rawtuxdata.query(\"GENERIC_ALLOCATOR == 'n' & DRM_VBOXVIDEO == 'y' & WANXL_BUILD_FIRMWARE == 'y'\")\n",
    "# rawtuxdata.query(\"GENERIC_ALLOCATOR == 'n' & DRM_VBOXVIDEO == 'y' & WANXL_BUILD_FIRMWARE != 'y' & AIC7XXX_BUILD_FIRMWARE != 'y' & AIC79XX_BUILD_FIRMWARE != 'y'\")"
   ]
  },
  {
   "cell_type": "code",
   "execution_count": null,
   "metadata": {},
   "outputs": [],
   "source": [
    "rawtuxdata.info(memory_usage='deep')"
   ]
  },
  {
   "cell_type": "code",
   "execution_count": null,
   "metadata": {},
   "outputs": [],
   "source": [
    "# https://github.com/TuxML/ProjetIrma/issues/137\n",
    "# We should check whether in the database we have configurations in which we have options values:\n",
    "# CONFIG_WANXL_BUILD_FIRMWARE=y and CONFIG_PREVENT_FIRMWARE_BUILD=y\n",
    "# Hypothesis: The decision tree showed that when CONFIG_WANXL_BUILD_FIRMWARE is activated, \n",
    "# there are 335 failures out of 337... \n",
    "# As discussed, the \"two\" exceptional cases causing failures were quite intriguing... And maybe you get the explanation! Strangely, and according to the decision tree, the activation of option \"CONFIG_VIDEO_RCAR_VIN\" avoids compilation failures. I suspect that incidentally it is a wrong explanation of non-compilation failures... and that in fact it is due to the presence of CONFIG_PREVENT_FIRMWARE_BUILD. I will verify this hypothesis!\n",
    "\n",
    "#wanxl_configurations = rawtuxdata.query(\"WANXL_BUILD_FIRMWARE == 'y' & (AIC7XXX_BUILD_FIRMWARE != 'y' & AIC79XX_BUILD_FIRMWARE != 'y')\")\n",
    "#wanxl_configurations2 = rawtuxdata.query(\"WANXL_BUILD_FIRMWARE == 'y'\")\n",
    "\n",
    "# wanxl_configurations.query(\"vmlinux != -1\") # not necessary a failure? \n",
    "#wanxl_configurations2.query(\"vmlinux != -1\")\n",
    "\n",
    "#rawtuxdata.query(\"PREVENT_FIRMWARE_BUILD == 'y' & WANXL_BUILD_FIRMWARE == 'y'\") #.query(\"vmlinux != -1\")\n",
    "\n",
    "rawtuxdata.query(\"WANXL_BUILD_FIRMWARE == 'y'\") #  & vmlinux != -1\")\n",
    "#rawtuxdata.query(\"VIDEO_RCAR_VIN == 'm'\")\n",
    "\n"
   ]
  },
  {
   "cell_type": "code",
   "execution_count": null,
   "metadata": {},
   "outputs": [],
   "source": [
    "### basic stats about options and unique values \n",
    "## could be extended/improved \n",
    "\n",
    "tri_state_values = ['y', 'n', 'm']\n",
    "\n",
    "ftuniques = []\n",
    "freq_ymn_features = []\n",
    "non_tristate_options = []\n",
    "\n",
    "for col in rawtuxdata:\n",
    "    ft = rawtuxdata[col]    \n",
    "    # eg always \"y\"\n",
    "    if len(ft.unique()) == 1:\n",
    "        ftuniques.append(col)\n",
    "    # only tri-state values (y, n, m) (possible TODO: handle numerical/string options)    \n",
    "    elif all(x in tri_state_values for x in ft.unique()):     #len(ft.unique()) == 3: \n",
    "        freq = ft.value_counts(normalize=True)\n",
    "        freqy = 0\n",
    "        freqn = 0\n",
    "        freqm = 0\n",
    "        if ('y' in freq.index):\n",
    "            freqy = freq['y']\n",
    "        if ('n' in freq.index):\n",
    "            freqn = freq['n']\n",
    "        if ('m' in freq.index):\n",
    "            freqm = freq['m']\n",
    "        freq_ymn_features.append((col, freqy, freqm, freqn))\n",
    "    else:\n",
    "        if not (col in size_methods): \n",
    "            non_tristate_options.append(col)\n",
    "        \n",
    "\n",
    "### TODO: we want to keep all quantitative values!\n",
    "# non_tristate_options.remove('LZO') # ('vmlinux')\n",
    "\n",
    "# we want to keep measurements (that are not tristate ;)) \n",
    "# non_tristate_options = list(set(non_tristate_options) - set(size_methods))\n",
    "\n",
    "#### print options with unique values\n",
    "# options with only one value eg always \"y\"\n",
    "#i = 0\n",
    "#for ft in ftuniques:\n",
    "#    print(ft + \" (\" + str(i) + \")\")\n",
    "#    i = i + 1\n",
    "\n",
    "print(\"Original size (#configs/#options) of the dataset \" + str(rawtuxdata.shape))\n",
    "print (\"Number of options with only one value (eg always y): \" + str(pd.DataFrame(ftuniques).shape))\n",
    "\n",
    "# maybe we can drop options with only one unique value (no interest for machine learning)\n",
    "# TODO: maybe we can rely on more traditional feature reduction techniques\n",
    "# TODO: need to think about *when* to apply the removal \n",
    "\n",
    "#rawtuxdata.drop(columns=ftuniques,inplace=True) \n",
    "\n",
    "## non_tristate_options include basic stuff like date, time, cid but also string/numerical options\n",
    "print (\"Non tri-state value options (eg string or integer or hybrid values): \" \n",
    "       + str(pd.DataFrame(non_tristate_options).shape) + \" \") \n",
    "#      + str(pd.DataFrame(non_tristate_options)))\n",
    "\n",
    "\n",
    "print (\"Predictor variables: \" + str(rawtuxdata.drop(columns=non_tristate_options).columns.size))\n",
    "# frequency of y, m, and n values \n",
    "#plt.figure()\n",
    "#pd.DataFrame(freq_ymn_features, columns=[\"feature\", \"freqy\", \"freqm\", \"freqn\"]).plot(kind='hist', alpha=0.8) #plot()\n",
    "#plt.show()\n",
    "\n",
    "\n",
    "rawtuxdata.info(memory_usage='deep')"
   ]
  },
  {
   "cell_type": "code",
   "execution_count": null,
   "metadata": {},
   "outputs": [],
   "source": [
    "from sklearn.preprocessing import *\n",
    "from sklearn.metrics import mean_squared_error, r2_score, mean_absolute_error\n",
    "from sklearn.model_selection import train_test_split\n",
    "from sklearn.ensemble import ExtraTreesRegressor, RandomForestRegressor, GradientBoostingClassifier\n",
    "from sklearn.feature_selection import SelectFromModel\n",
    "from sklearn.linear_model import LassoCV\n",
    "from sklearn.pipeline import Pipeline\n",
    "from sklearn import linear_model\n",
    "from sklearn import svm\n",
    "from sklearn.metrics import accuracy_score, f1_score, precision_score, recall_score\n",
    "from sklearn import tree\n",
    "import graphviz \n",
    "\n",
    "\n",
    "LEARN_COMPILATION_SUCCESS = True # costly in time and space \n",
    "compilation_status_column_name = 'compile_success'\n",
    "\n",
    "def encode_data_compilation(rawtuxdata):\n",
    "    lae = LabelEncoder()\n",
    "    # we save quantitative values we want (here vmlinux, TODO: generalize)\n",
    "    # the key idea is that the labelling encoder should not be applied to this kind of values (only to predictor variables!)\n",
    "    # vml = rawtuxdata['LZO'] # rawtuxdata['vmlinux'] \n",
    "    o_sizes = rawtuxdata[size_methods]\n",
    "\n",
    "    # we may remove non tri state options, but TODO there are perhaps some interesting options (numerical or string) here\n",
    "    #tuxdata = rawtuxdata.drop(columns=non_tristate_options).drop(columns=['vmlinux']).apply(le.fit_transform)\n",
    "    tuxdata_for_compilation = rawtuxdata.drop(columns=non_tristate_options).drop(columns=size_methods).apply(lae.fit_transform)\n",
    "\n",
    "    #tuxdata['vmlinux'] = vml \n",
    "    tuxdata_for_compilation[size_methods] = o_sizes\n",
    "    # we can ue vmlinux since it has been restored thanks to previous line\n",
    "    tuxdata_for_compilation[compilation_status_column_name] = tuxdata_for_compilation['vmlinux'] != -1\n",
    "    return tuxdata_for_compilation\n",
    "\n",
    "def learn_compilation_success(tuxdata_for_compilation):\n",
    "    TESTING_SIZE=0.1 \n",
    "    X_train, X_test, y_train, y_test = train_test_split(tuxdata_for_compilation.drop(columns=size_methods).drop(columns=compilation_status_column_name), tuxdata_for_compilation[compilation_status_column_name], test_size=TESTING_SIZE, random_state=0)  \n",
    "    clf = tree.DecisionTreeClassifier() #GradientBoostingClassifier(n_estimators=100) #RandomForestRegressor(n_estimators=100) #   #GradientBoostingRegressor(n_estimators=100)  \n",
    "    clf.fit(X_train, y_train)\n",
    "    y_pred = clf.predict(X_test)\n",
    "    importances = clf.feature_importances_\n",
    "    indices = np.argsort(importances)[::-1]    \n",
    "\n",
    "    TOP_FT_IMPORTANCE=20\n",
    "    print(\"Feature ranking: \" + \"top (\" + str(TOP_FT_IMPORTANCE) + \")\")\n",
    "    for f in range(TOP_FT_IMPORTANCE): # len(indices)\n",
    "        print(\"%d. feature %s %d (%f)\" % (f + 1, tuxdata_for_compilation.columns[indices[f]], indices[f], importances[indices[f]]))\n",
    "   \n",
    "    \n",
    "    dot_data = tree.export_graphviz(clf, out_file=None, \n",
    "                         feature_names=tuxdata_for_compilation.drop(columns=size_methods).drop(columns=compilation_status_column_name).columns,  \n",
    "                         filled=True, rounded=True,\n",
    "                         special_characters=True)  \n",
    "    graph = graphviz.Source(dot_data)  \n",
    "    graph.render(\"TUXML_compilation_failures\")\n",
    "    \n",
    "    acc = accuracy_score (y_test, y_pred)\n",
    "    prec = precision_score (y_test, y_pred)\n",
    "    reca = recall_score (y_test, y_pred)\n",
    "    f1 = f1_score (y_test, y_pred)\n",
    "    print(\"Accuracy score:\", acc)\n",
    "    print(\"Precision score:\", prec)\n",
    "    print(\"Recall score:\", reca)\n",
    "    print(\"F1 score:\", f1)\n",
    "\n",
    "if (LEARN_COMPILATION_SUCCESS):\n",
    "    tuxdata_for_compilation = encode_data_compilation(rawtuxdata)\n",
    "    # tuxdata_for_compilation [compilation_status_column_name].describe() # TODO?\n",
    "    learn_compilation_success(tuxdata_for_compilation)\n",
    "    del tuxdata_for_compilation"
   ]
  },
  {
   "cell_type": "code",
   "execution_count": null,
   "metadata": {},
   "outputs": [],
   "source": []
  },
  {
   "cell_type": "code",
   "execution_count": null,
   "metadata": {},
   "outputs": [],
   "source": []
  }
 ],
 "metadata": {
  "kernelspec": {
   "display_name": "Python 3",
   "language": "python",
   "name": "python3"
  },
  "language_info": {
   "codemirror_mode": {
    "name": "ipython",
    "version": 3
   },
   "file_extension": ".py",
   "mimetype": "text/x-python",
   "name": "python",
   "nbconvert_exporter": "python",
   "pygments_lexer": "ipython3",
   "version": "3.7.2"
  }
 },
 "nbformat": 4,
 "nbformat_minor": 2
}
