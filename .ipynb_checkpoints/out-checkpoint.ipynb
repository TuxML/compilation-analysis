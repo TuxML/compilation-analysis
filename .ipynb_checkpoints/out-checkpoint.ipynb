{
 "cells": [
  {
   "cell_type": "code",
   "execution_count": 1,
   "metadata": {},
   "outputs": [],
   "source": [
    "import MySQLdb\n",
    "import sys\n"
   ]
  },
  {
   "cell_type": "code",
   "execution_count": null,
   "metadata": {},
   "outputs": [],
   "source": []
  },
  {
   "cell_type": "code",
   "execution_count": 2,
   "metadata": {},
   "outputs": [],
   "source": [
    "# Virtual machine IP adress\n",
    "HOST            = \"148.60.11.195\"\n",
    "\n",
    "## MySQL user\n",
    "DB_USER         = \"script2\"\n",
    "\n",
    "## MySQL password\n",
    "DB_PASSWD       = \"ud6cw3xNRKnrOz6H\""
   ]
  },
  {
   "cell_type": "code",
   "execution_count": null,
   "metadata": {},
   "outputs": [],
   "source": []
  },
  {
   "cell_type": "code",
   "execution_count": null,
   "metadata": {},
   "outputs": [],
   "source": []
  },
  {
   "cell_type": "code",
   "execution_count": null,
   "metadata": {},
   "outputs": [],
   "source": []
  },
  {
   "cell_type": "code",
   "execution_count": null,
   "metadata": {
    "scrolled": true
   },
   "outputs": [],
   "source": [
    "    "
   ]
  },
  {
   "cell_type": "code",
   "execution_count": 3,
   "metadata": {},
   "outputs": [],
   "source": [
    "import bz2\n",
    "\n",
    "def print_logs_configurations(cid):\n",
    "    \n",
    "    try:\n",
    "        socket = MySQLdb.connect(HOST, DB_USER, DB_PASSWD, \"IrmaDB_prod\")\n",
    "        cursor = socket.cursor()\n",
    "\n",
    "        query = \"SELECT stdlog_file, errlog_file, output_file FROM Compilations WHERE cid = %d\" % cid\n",
    "        cursor.execute(query)\n",
    "        stdlog_file, errlog_file, output_file = cursor.fetchone()\n",
    "            \n",
    "        if (stdlog_file is None) or (errlog_file is None) or (output_file is None):\n",
    "            print (\"Unable to retrieve cid...\")\n",
    "            return\n",
    "        \n",
    "        print(\"STD LOG FILE\")\n",
    "        print(bz2.decompress(stdlog_file).decode('ascii'))\n",
    "        print(\"#########\")\n",
    "        print(\"ERR LOG FILE\")\n",
    "        print(\"#########\")\n",
    "        print(bz2.decompress(errlog_file).decode()) # not ascii? \n",
    "        print(\"#########\")\n",
    "        print(\"OUTPUT LOG FILE\")\n",
    "        print(\"#########\")\n",
    "        print(bz2.decompress(output_file).decode('ascii'))\n",
    "    \n",
    "    except Exception as e:\n",
    "        print(str(e),\"\\n\" + \"Unable to connect to database cid = \" + str(cid), file=sys.stderr)\n",
    "        exit(-1)\n",
    "        \n",
    "    finally:\n",
    "        cursor.close()\n",
    "        socket.close()\n",
    "\n",
    "print_logs_configurations(116732) #78749: WANXL_BUILD_FIRMWARE # 79052 AIC7XXX_BUILD_FIRMWARE"
   ]
  },
  {
   "cell_type": "code",
   "execution_count": 4,
   "metadata": {
    "scrolled": true
   },
   "outputs": [],
   "source": [
    "def get_configuration_file(cid):\n",
    "    print(\"Getting configuration file of cid=\", cid)\n",
    "    \n",
    "    try:\n",
    "        socket = MySQLdb.connect(HOST, DB_USER, DB_PASSWD, \"IrmaDB_prod\")\n",
    "        cursor = socket.cursor()\n",
    "\n",
    "        query = \"SELECT config_file FROM Compilations WHERE cid = %d\" % cid\n",
    "        cursor.execute(query)\n",
    "        config_file = cursor.fetchone()\n",
    "        \n",
    "            \n",
    "        if (config_file is None):\n",
    "            print (\"Unable to retrieve cid=\", str(cid))\n",
    "            return\n",
    "\n",
    "        try:\n",
    "            return bz2.decompress(config_file[0]).decode('ascii')\n",
    "        except Exception as e:\n",
    "            print(str(e),\"\\n\" + \"Unable to decompress... \", file=sys.stderr)\n",
    "            exit(-1)\n",
    "    \n",
    "    except Exception as e:\n",
    "        print(str(e),\"\\n\" + \"Unable to connect to database cid = \" + str(cid), file=sys.stderr)\n",
    "        exit(-1)\n",
    "        \n",
    "    finally:\n",
    "        cursor.close()\n",
    "        socket.close()\n",
    "\n",
    "cf1 = get_configuration_file(116733) \n",
    "print(cf1)"
   ]
  },
  {
   "cell_type": "code",
   "execution_count": 5,
   "metadata": {},
   "outputs": [],
   "source": [
    "cf_tiny = get_configuration_file(74458) # same as 126760\n",
    "ny = 0\n",
    "for l in cf_tiny.splitlines():\n",
    "    if l.endswith(\"=y\"):\n",
    "        ny = ny + 1\n",
    "        print(l)\n",
    "print(\"number of active options\", ny)"
   ]
  },
  {
   "cell_type": "code",
   "execution_count": 6,
   "metadata": {},
   "outputs": [],
   "source": [
    "def err_logs_configuration(cid):\n",
    "    \n",
    "    try:\n",
    "        socket = MySQLdb.connect(HOST, DB_USER, DB_PASSWD, \"IrmaDB_prod\")\n",
    "        cursor = socket.cursor()\n",
    "\n",
    "        query = \"SELECT errlog_file FROM Compilations WHERE cid = %d\" % cid\n",
    "        cursor.execute(query)\n",
    "        errlog_file, = cursor.fetchone()\n",
    "            \n",
    "        if (errlog_file is None):\n",
    "            print (\"Unable to retrieve cid...\")\n",
    "            return\n",
    "        \n",
    "        return bz2.decompress(errlog_file).decode()\n",
    "    \n",
    "    except Exception as e:\n",
    "        print(str(e), \"\\n\" + \"Unable to connect to database cid = \" + str(cid), file=sys.stderr)\n",
    "        exit(-1)\n",
    "        \n",
    "    finally:\n",
    "        cursor.close()\n",
    "        socket.close()"
   ]
  },
  {
   "cell_type": "code",
   "execution_count": 7,
   "metadata": {
    "scrolled": true
   },
   "outputs": [],
   "source": [
    "import time\n",
    "generic_allocator_cid_sample = [65140, 71650, 65543, 73564, 71019, 67934, 75995, 65748, 70818, 64884]\n",
    "for cid in generic_allocator_cid_sample:\n",
    "    print(\"###### CID\", cid)\n",
    "    cf = get_configuration_file(cid)\n",
    "    # \"CONFIG_GENERIC_ALLOCATOR=n\" (so not in .config)\n",
    "    assert(\"CONFIG_DRM_VBOXVIDEO=y\" in cf.splitlines())\n",
    "    print(err_logs_configuration(cid).splitlines()[:-5])\n",
    "    print()\n",
    "    print()\n",
    "    time.sleep(5)"
   ]
  },
  {
   "cell_type": "code",
   "execution_count": 10,
   "metadata": {},
   "outputs": [],
   "source": [
    "#err_logs_configuration(67934) # very large err log\n",
    "# err_logs_configuration(75995)"
   ]
  },
  {
   "cell_type": "code",
   "execution_count": 8,
   "metadata": {},
   "outputs": [],
   "source": [
    "# rawtuxdata.query(\"GENERIC_ALLOCATOR == 'n' & DRM_VBOXVIDEO == 'y' & AIC79XX_BUILD_FIRMWARE == 'y'\")\n",
    "# masking effects!\n",
    "err_logs_configuration(67576)"
   ]
  },
  {
   "cell_type": "code",
   "execution_count": null,
   "metadata": {},
   "outputs": [],
   "source": []
  },
  {
   "cell_type": "code",
   "execution_count": 34,
   "metadata": {},
   "outputs": [],
   "source": [
    "import difflib\n",
    "from IPython.core.display import display, HTML\n",
    "\n",
    "failure_1 = err_logs_configuration(64884).splitlines()\n",
    "failure_2 = err_logs_configuration(65140).splitlines()\n",
    "failure_3 = err_logs_configuration(70818).splitlines()\n",
    "#d = difflib.Differ()\n",
    "#diff = difflib.ndiff(failure_1, failure_2)\n",
    "#print('\\n'.join(diff))\n",
    "\n",
    "\n",
    "display(HTML(difflib.HtmlDiff().make_file(failure_2, failure_3)))\n",
    "\n"
   ]
  },
  {
   "cell_type": "code",
   "execution_count": null,
   "metadata": {},
   "outputs": [],
   "source": [
    "#p_failure_log = None\n",
    "#for cid in generic_allocator_cid_sample:\n",
    "#    c_failure_log = err_logs_configuration(cid).splitlines()\n",
    "#    if (p_failure_log is not None):\n",
    "#        display(HTML(difflib.HtmlDiff().make_file(p_failure_log, c_failure_log)))\n",
    "#    p_failure_log = c_failure_log\n",
    "    "
   ]
  },
  {
   "cell_type": "code",
   "execution_count": null,
   "metadata": {},
   "outputs": [],
   "source": []
  }
 ],
 "metadata": {
  "kernelspec": {
   "display_name": "Python 3",
   "language": "python",
   "name": "python3"
  },
  "language_info": {
   "codemirror_mode": {
    "name": "ipython",
    "version": 3
   },
   "file_extension": ".py",
   "mimetype": "text/x-python",
   "name": "python",
   "nbconvert_exporter": "python",
   "pygments_lexer": "ipython3",
   "version": "3.7.2"
  }
 },
 "nbformat": 4,
 "nbformat_minor": 2
}
