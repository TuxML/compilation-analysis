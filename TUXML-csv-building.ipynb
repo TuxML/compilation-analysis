{
 "cells": [
  {
   "cell_type": "code",
   "execution_count": 1,
   "metadata": {},
   "outputs": [
    {
     "name": "stderr",
     "output_type": "stream",
     "text": [
      "/usr/local/lib/python3.7/site-packages/IPython/core/interactiveshell.py:3185: DtypeWarning: Columns (1150,6015,6026,6717,7350,7676,7726,10442) have mixed types. Specify dtype option on import or set low_memory=False.\n",
      "  if (yield from self.run_code(code, result)):\n",
      "/usr/local/lib/python3.7/site-packages/IPython/core/interactiveshell.py:3185: DtypeWarning: Columns (1150,6015,6026,6717,7350,7676,7726,8507,10442) have mixed types. Specify dtype option on import or set low_memory=False.\n",
      "  if (yield from self.run_code(code, result)):\n",
      "/usr/local/lib/python3.7/site-packages/IPython/core/interactiveshell.py:3185: DtypeWarning: Columns (1150,2722,6015,6026,6717,7350,7676,7726,9949) have mixed types. Specify dtype option on import or set low_memory=False.\n",
      "  if (yield from self.run_code(code, result)):\n",
      "/usr/local/lib/python3.7/site-packages/IPython/core/interactiveshell.py:3185: DtypeWarning: Columns (1150,6015,6026,6717,7350,7676,7726) have mixed types. Specify dtype option on import or set low_memory=False.\n",
      "  if (yield from self.run_code(code, result)):\n"
     ]
    }
   ],
   "source": [
    "import os\n",
    "import pandas as pd\n",
    "\n",
    "\n",
    "### a procedure to have a reusable data(frame) for exploiting the database\n",
    "## at the end a 'pkl' file for saving a dataframe of 70K rows \n",
    "\n",
    "# TODO: CSVs have been generated/extracted from the database with specific scripts \n",
    "### warning: it can take lots of time/space\n",
    "TUXML_CSV_FILENAMES = ['config_bdd30000-40000.csv', 'config_bdd40000-60000.csv', 'config_bdd60000-90000.csv', 'config_bdd90000-100000.csv']\n",
    "\n",
    "#pd_chunks = []\n",
    "#for csv_filename in TUXML_CSV_FILENAMES:\n",
    "    # sanity check CSV\n",
    "    #with open(csv_filename, \"r\") as file:\n",
    "    #    k = file.readline()\n",
    "    #    t = k.split(\",\")\n",
    "    #    s = set(t)\n",
    "    #    assert(len(t) == len(s)) # unique number of options/features/column names\n",
    "\n",
    "    # parsing for real with pandas \n",
    "    #c_pd = pd.read_csv(open(csv_filename, \"r\"))\n",
    "    #pd_chunks.append(c_pd)\n",
    "    #print(\"DONE for\", csv_filename)  \n",
    "pd_csvs = [pd.read_csv(f) for f in TUXML_CSV_FILENAMES]\n",
    "combined_pd = pd.concat(pd_csvs)"
   ]
  },
  {
   "cell_type": "code",
   "execution_count": 2,
   "metadata": {},
   "outputs": [],
   "source": [
    "combined_pd.to_pickle('config_bdd30-100.pkl')"
   ]
  },
  {
   "cell_type": "code",
   "execution_count": 3,
   "metadata": {},
   "outputs": [
    {
     "data": {
      "text/plain": [
       "69459"
      ]
     },
     "execution_count": 3,
     "metadata": {},
     "output_type": "execute_result"
    }
   ],
   "source": [
    "# assert (len(combined_pd) == 20001)\n",
    "len(combined_pd)"
   ]
  },
  {
   "cell_type": "code",
   "execution_count": 4,
   "metadata": {},
   "outputs": [
    {
     "data": {
      "text/plain": [
       "(9939, 19683, 29837, 10000)"
      ]
     },
     "execution_count": 4,
     "metadata": {},
     "output_type": "execute_result"
    }
   ],
   "source": [
    "len(pd_csvs[0]), len(pd_csvs[1]), len(pd_csvs[2]), len(pd_csvs[3])"
   ]
  },
  {
   "cell_type": "code",
   "execution_count": null,
   "metadata": {},
   "outputs": [],
   "source": [
    "#### end "
   ]
  }
 ],
 "metadata": {
  "kernelspec": {
   "display_name": "Python 3",
   "language": "python",
   "name": "python3"
  },
  "language_info": {
   "codemirror_mode": {
    "name": "ipython",
    "version": 3
   },
   "file_extension": ".py",
   "mimetype": "text/x-python",
   "name": "python",
   "nbconvert_exporter": "python",
   "pygments_lexer": "ipython3",
   "version": "3.7.2"
  }
 },
 "nbformat": 4,
 "nbformat_minor": 2
}
