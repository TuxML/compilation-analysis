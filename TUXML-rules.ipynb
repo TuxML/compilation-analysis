{
 "cells": [
  {
   "cell_type": "code",
   "execution_count": 1,
   "metadata": {},
   "outputs": [],
   "source": [
    "import json\n",
    "import pandas as pd"
   ]
  },
  {
   "cell_type": "code",
   "execution_count": null,
   "metadata": {},
   "outputs": [],
   "source": [
    "#Find option columns from dataframe\n",
    "'''\n",
    "df = pd.read_csv(\"dataset_after_encoding.csv\")\n",
    "options_columns = [col for col in df.columns.values if df[col].nunique() <=3]\n",
    "'''"
   ]
  },
  {
   "cell_type": "code",
   "execution_count": 2,
   "metadata": {},
   "outputs": [],
   "source": [
    "with open(\"option_columns.json\",\"r\") as f:\n",
    "    option_columns = json.load(f)"
   ]
  },
  {
   "cell_type": "code",
   "execution_count": 5,
   "metadata": {},
   "outputs": [],
   "source": [
    "df = pd.read_csv(\"dataset_after_encoding.csv\", dtype={k:\"int8\" for k in option_columns})"
   ]
  },
  {
   "cell_type": "code",
   "execution_count": 6,
   "metadata": {},
   "outputs": [
    {
     "name": "stdout",
     "output_type": "stream",
     "text": [
      "<class 'pandas.core.frame.DataFrame'>\n",
      "RangeIndex: 69362 entries, 0 to 69361\n",
      "Columns: 12654 entries, Unnamed: 0 to compile_success\n",
      "dtypes: float64(6), int64(37), int8(12611)\n",
      "memory usage: 857.0 MB\n"
     ]
    }
   ],
   "source": [
    "df.info(memory_usage='deep')"
   ]
  },
  {
   "cell_type": "code",
   "execution_count": 7,
   "metadata": {},
   "outputs": [],
   "source": [
    "df.drop(\"Unnamed: 0\", inplace=True, axis=1)"
   ]
  },
  {
   "cell_type": "code",
   "execution_count": 8,
   "metadata": {},
   "outputs": [],
   "source": [
    "basic_head = [\"cid\", \"time\", \"date\"] # \"compile\"\n",
    "compilation_status_column_name = 'compile_success'\n",
    "size_methods = [\"vmlinux\", \"GZIP-bzImage\", \"GZIP-vmlinux\", \"GZIP\", \"BZIP2-bzImage\", \n",
    "              \"BZIP2-vmlinux\", \"BZIP2\", \"LZMA-bzImage\", \"LZMA-vmlinux\", \"LZMA\", \"XZ-bzImage\", \"XZ-vmlinux\", \"XZ\", \n",
    "              \"LZO-bzImage\", \"LZO-vmlinux\", \"LZO\", \"LZ4-bzImage\", \"LZ4-vmlinux\", \"LZ4\"]"
   ]
  },
  {
   "cell_type": "code",
   "execution_count": 11,
   "metadata": {},
   "outputs": [
    {
     "data": {
      "text/plain": [
       "DecisionTreeClassifier(class_weight=None, criterion='gini', max_depth=None,\n",
       "            max_features=None, max_leaf_nodes=None,\n",
       "            min_impurity_decrease=0.0, min_impurity_split=None,\n",
       "            min_samples_leaf=1, min_samples_split=2,\n",
       "            min_weight_fraction_leaf=0.0, presort=False, random_state=None,\n",
       "            splitter='best')"
      ]
     },
     "execution_count": 11,
     "metadata": {},
     "output_type": "execute_result"
    }
   ],
   "source": [
    "from sklearn.model_selection import train_test_split\n",
    "from sklearn import tree\n",
    "\n",
    "\n",
    "TESTING_SIZE=0.9 # 0.001 \n",
    "X_train, X_test, y_train, y_test = train_test_split(\n",
    "    df\n",
    "    .drop(columns=size_methods)\n",
    "    .drop(columns=compilation_status_column_name), \n",
    "    df[compilation_status_column_name], test_size=TESTING_SIZE, random_state=0)  \n",
    "clf = tree.DecisionTreeClassifier() #GradientBoostingClassifier(n_estimators=100) #RandomForestRegressor(n_estimators=100) #   #GradientBoostingRegressor(n_estimators=100)  \n",
    "clf.fit(X_train, y_train)"
   ]
  },
  {
   "cell_type": "code",
   "execution_count": 12,
   "metadata": {},
   "outputs": [
    {
     "name": "stdout",
     "output_type": "stream",
     "text": [
      "Accuracy score: 0.994537532438407\n",
      "Precision score: 0.9981069569332702\n",
      "Recall score: 0.9961370422226346\n",
      "F1 score: 0.9971210266368358\n",
      "Balance accuracy score: 0.9802624797758641\n"
     ]
    }
   ],
   "source": [
    "from sklearn.metrics import accuracy_score, f1_score, precision_score, recall_score, balanced_accuracy_score\n",
    "\n",
    "y_pred = clf.predict(X_test)\n",
    "\n",
    "acc = accuracy_score (y_test, y_pred)\n",
    "prec = precision_score (y_test, y_pred)\n",
    "reca = recall_score (y_test, y_pred)\n",
    "f1 = f1_score (y_test, y_pred)\n",
    "balance_acc = balanced_accuracy_score (y_test, y_pred)\n",
    "print(\"Accuracy score:\", acc)\n",
    "print(\"Precision score:\", prec)\n",
    "print(\"Recall score:\", reca)\n",
    "print(\"F1 score:\", f1)\n",
    "print(\"Balance accuracy score:\", balance_acc)"
   ]
  },
  {
   "cell_type": "code",
   "execution_count": 13,
   "metadata": {},
   "outputs": [],
   "source": [
    "import graphviz \n",
    "\n",
    "def printTree(clf, feature_names):\n",
    "    dot_data = tree.export_graphviz(clf, out_file=None, \n",
    "                         feature_names=feature_names,  \n",
    "                         filled=True, rounded=True,\n",
    "                         special_characters=True)  \n",
    "    graph = graphviz.Source(dot_data)  \n",
    "    graph.render(\"TUXML_compilation_failures\")\n",
    "    \n",
    "printTree(clf, df.drop(columns=size_methods).drop(columns=compilation_status_column_name).columns)"
   ]
  },
  {
   "cell_type": "code",
   "execution_count": 15,
   "metadata": {},
   "outputs": [
    {
     "name": "stdout",
     "output_type": "stream",
     "text": [
      "AIC79XX_BUILD_FIRMWARE <= 0.5 & AIC7XXX_BUILD_FIRMWARE <= 0.5 & WANXL_BUILD_FIRMWARE <= 0.5 & GENERIC_ALLOCATOR <= 0.5 & DRM_VBOXVIDEO <= 1.5 & WIL6210_TRACING <= 0.5 & SPI_ORION <= 0.5 & LEDS_LM355x <= 0.5 ---> [[0. 1.]]\n",
      "AIC79XX_BUILD_FIRMWARE <= 0.5 & AIC7XXX_BUILD_FIRMWARE <= 0.5 & WANXL_BUILD_FIRMWARE <= 0.5 & GENERIC_ALLOCATOR <= 0.5 & DRM_VBOXVIDEO <= 1.5 & WIL6210_TRACING <= 0.5 & SPI_ORION <= 0.5 & LEDS_LM355x > 0.5 ---> [[1. 0.]]\n",
      "AIC79XX_BUILD_FIRMWARE <= 0.5 & AIC7XXX_BUILD_FIRMWARE <= 0.5 & WANXL_BUILD_FIRMWARE <= 0.5 & GENERIC_ALLOCATOR <= 0.5 & DRM_VBOXVIDEO <= 1.5 & WIL6210_TRACING <= 0.5 & SPI_ORION > 0.5 ---> [[  0. 365.]]\n",
      "AIC79XX_BUILD_FIRMWARE <= 0.5 & AIC7XXX_BUILD_FIRMWARE <= 0.5 & WANXL_BUILD_FIRMWARE <= 0.5 & GENERIC_ALLOCATOR <= 0.5 & DRM_VBOXVIDEO <= 1.5 & WIL6210_TRACING > 0.5 ---> [[1. 0.]]\n",
      "AIC79XX_BUILD_FIRMWARE <= 0.5 & AIC7XXX_BUILD_FIRMWARE <= 0.5 & WANXL_BUILD_FIRMWARE <= 0.5 & GENERIC_ALLOCATOR <= 0.5 & DRM_VBOXVIDEO > 1.5 ---> [[19.  0.]]\n",
      "AIC79XX_BUILD_FIRMWARE <= 0.5 & AIC7XXX_BUILD_FIRMWARE <= 0.5 & WANXL_BUILD_FIRMWARE <= 0.5 & GENERIC_ALLOCATOR > 0.5 & MLX5_CORE_IPOIB <= 0.5 & USB_PULSE8_CEC <= 0.5 & VIDEO_SAMSUNG_EXYNOS_GSC <= 0.5 ---> [[2. 0.]]\n",
      "AIC79XX_BUILD_FIRMWARE <= 0.5 & AIC7XXX_BUILD_FIRMWARE <= 0.5 & WANXL_BUILD_FIRMWARE <= 0.5 & GENERIC_ALLOCATOR > 0.5 & MLX5_CORE_IPOIB <= 0.5 & USB_PULSE8_CEC <= 0.5 & VIDEO_SAMSUNG_EXYNOS_GSC > 0.5 ---> [[ 0. 47.]]\n",
      "AIC79XX_BUILD_FIRMWARE <= 0.5 & AIC7XXX_BUILD_FIRMWARE <= 0.5 & WANXL_BUILD_FIRMWARE <= 0.5 & GENERIC_ALLOCATOR > 0.5 & MLX5_CORE_IPOIB <= 0.5 & USB_PULSE8_CEC > 0.5 & ISDN_DIVAS_MAINT <= 0.5 & USB_MUSB_GADGET <= 0.5 ---> [[ 0. 16.]]\n",
      "AIC79XX_BUILD_FIRMWARE <= 0.5 & AIC7XXX_BUILD_FIRMWARE <= 0.5 & WANXL_BUILD_FIRMWARE <= 0.5 & GENERIC_ALLOCATOR > 0.5 & MLX5_CORE_IPOIB <= 0.5 & USB_PULSE8_CEC > 0.5 & ISDN_DIVAS_MAINT <= 0.5 & USB_MUSB_GADGET > 0.5 ---> [[1. 0.]]\n",
      "AIC79XX_BUILD_FIRMWARE <= 0.5 & AIC7XXX_BUILD_FIRMWARE <= 0.5 & WANXL_BUILD_FIRMWARE <= 0.5 & GENERIC_ALLOCATOR > 0.5 & MLX5_CORE_IPOIB <= 0.5 & USB_PULSE8_CEC > 0.5 & ISDN_DIVAS_MAINT > 0.5 & RDMA_RXE <= 1.5 & HOTPLUG_PCI_CPCI_GENERIC <= 0.5 & SND_SOC_INTEL_BXT_DA7219_MAX98357A_MACH <= 1.5 & USB_SERIAL_MXUPORT <= 1.5 ---> [[  0. 142.]]\n",
      "AIC79XX_BUILD_FIRMWARE <= 0.5 & AIC7XXX_BUILD_FIRMWARE <= 0.5 & WANXL_BUILD_FIRMWARE <= 0.5 & GENERIC_ALLOCATOR > 0.5 & MLX5_CORE_IPOIB <= 0.5 & USB_PULSE8_CEC > 0.5 & ISDN_DIVAS_MAINT > 0.5 & RDMA_RXE <= 1.5 & HOTPLUG_PCI_CPCI_GENERIC <= 0.5 & SND_SOC_INTEL_BXT_DA7219_MAX98357A_MACH <= 1.5 & USB_SERIAL_MXUPORT > 1.5 ---> [[1. 0.]]\n",
      "AIC79XX_BUILD_FIRMWARE <= 0.5 & AIC7XXX_BUILD_FIRMWARE <= 0.5 & WANXL_BUILD_FIRMWARE <= 0.5 & GENERIC_ALLOCATOR > 0.5 & MLX5_CORE_IPOIB <= 0.5 & USB_PULSE8_CEC > 0.5 & ISDN_DIVAS_MAINT > 0.5 & RDMA_RXE <= 1.5 & HOTPLUG_PCI_CPCI_GENERIC <= 0.5 & SND_SOC_INTEL_BXT_DA7219_MAX98357A_MACH > 1.5 ---> [[1. 0.]]\n",
      "AIC79XX_BUILD_FIRMWARE <= 0.5 & AIC7XXX_BUILD_FIRMWARE <= 0.5 & WANXL_BUILD_FIRMWARE <= 0.5 & GENERIC_ALLOCATOR > 0.5 & MLX5_CORE_IPOIB <= 0.5 & USB_PULSE8_CEC > 0.5 & ISDN_DIVAS_MAINT > 0.5 & RDMA_RXE <= 1.5 & HOTPLUG_PCI_CPCI_GENERIC > 0.5 ---> [[   0. 5811.]]\n",
      "AIC79XX_BUILD_FIRMWARE <= 0.5 & AIC7XXX_BUILD_FIRMWARE <= 0.5 & WANXL_BUILD_FIRMWARE <= 0.5 & GENERIC_ALLOCATOR > 0.5 & MLX5_CORE_IPOIB <= 0.5 & USB_PULSE8_CEC > 0.5 & ISDN_DIVAS_MAINT > 0.5 & RDMA_RXE > 1.5 & DVB_A8293 <= 0.5 ---> [[1. 0.]]\n",
      "AIC79XX_BUILD_FIRMWARE <= 0.5 & AIC7XXX_BUILD_FIRMWARE <= 0.5 & WANXL_BUILD_FIRMWARE <= 0.5 & GENERIC_ALLOCATOR > 0.5 & MLX5_CORE_IPOIB <= 0.5 & USB_PULSE8_CEC > 0.5 & ISDN_DIVAS_MAINT > 0.5 & RDMA_RXE > 1.5 & DVB_A8293 > 0.5 & PM_TEST_SUSPEND <= 0.5 ---> [[  0. 146.]]\n",
      "AIC79XX_BUILD_FIRMWARE <= 0.5 & AIC7XXX_BUILD_FIRMWARE <= 0.5 & WANXL_BUILD_FIRMWARE <= 0.5 & GENERIC_ALLOCATOR > 0.5 & MLX5_CORE_IPOIB <= 0.5 & USB_PULSE8_CEC > 0.5 & ISDN_DIVAS_MAINT > 0.5 & RDMA_RXE > 1.5 & DVB_A8293 > 0.5 & PM_TEST_SUSPEND > 0.5 & VIRTIO_MMIO <= 1.5 ---> [[2. 0.]]\n",
      "AIC79XX_BUILD_FIRMWARE <= 0.5 & AIC7XXX_BUILD_FIRMWARE <= 0.5 & WANXL_BUILD_FIRMWARE <= 0.5 & GENERIC_ALLOCATOR > 0.5 & MLX5_CORE_IPOIB <= 0.5 & USB_PULSE8_CEC > 0.5 & ISDN_DIVAS_MAINT > 0.5 & RDMA_RXE > 1.5 & DVB_A8293 > 0.5 & PM_TEST_SUSPEND > 0.5 & VIRTIO_MMIO > 1.5 ---> [[0. 6.]]\n",
      "AIC79XX_BUILD_FIRMWARE <= 0.5 & AIC7XXX_BUILD_FIRMWARE <= 0.5 & WANXL_BUILD_FIRMWARE <= 0.5 & GENERIC_ALLOCATOR > 0.5 & MLX5_CORE_IPOIB > 0.5 & IEEE802154_ADF7242 <= 0.5 ---> [[1. 0.]]\n",
      "AIC79XX_BUILD_FIRMWARE <= 0.5 & AIC7XXX_BUILD_FIRMWARE <= 0.5 & WANXL_BUILD_FIRMWARE <= 0.5 & GENERIC_ALLOCATOR > 0.5 & MLX5_CORE_IPOIB > 0.5 & IEEE802154_ADF7242 > 0.5 & DVB_CX22702 <= 1.5 ---> [[ 0. 40.]]\n",
      "AIC79XX_BUILD_FIRMWARE <= 0.5 & AIC7XXX_BUILD_FIRMWARE <= 0.5 & WANXL_BUILD_FIRMWARE <= 0.5 & GENERIC_ALLOCATOR > 0.5 & MLX5_CORE_IPOIB > 0.5 & IEEE802154_ADF7242 > 0.5 & DVB_CX22702 > 1.5 ---> [[1. 0.]]\n",
      "AIC79XX_BUILD_FIRMWARE <= 0.5 & AIC7XXX_BUILD_FIRMWARE <= 0.5 & WANXL_BUILD_FIRMWARE > 0.5 ---> [[55.  0.]]\n",
      "AIC79XX_BUILD_FIRMWARE <= 0.5 & AIC7XXX_BUILD_FIRMWARE > 0.5 ---> [[110.   0.]]\n",
      "AIC79XX_BUILD_FIRMWARE > 0.5 ---> [[166.   0.]]\n"
     ]
    }
   ],
   "source": [
    "from sklearn.tree import _tree\n",
    "\n",
    "def tree_to_rules(tree, feature_names):\n",
    "    tree_ = tree.tree_\n",
    "    feature_name = [\n",
    "        feature_names[i] if i != _tree.TREE_UNDEFINED else \"undefined!\"\n",
    "        for i in tree_.feature\n",
    "    ]\n",
    "    #print (\"def tree({}):\".format(\", \".join(feature_names)))\n",
    "\n",
    "    def recurse(node, previous_rules):\n",
    "        if tree_.feature[node] != _tree.TREE_UNDEFINED:\n",
    "            name = feature_name[node]\n",
    "            threshold = tree_.threshold[node]\n",
    "            #print (\"{}if {} <= {}:\".format(indent, name, threshold))\n",
    "            recurse(tree_.children_left[node], previous_rules+[name + \" <= \" + str(threshold)])\n",
    "            #print (\"{}else:  # if {} > {}\".format(indent, name, threshold))\n",
    "            recurse(tree_.children_right[node], previous_rules+[name + \" > \" + str(threshold)])\n",
    "        else:\n",
    "            print(\" & \".join(previous_rules) + \" ---> \" + str(tree_.value[node]))\n",
    "\n",
    "    recurse(0, [])\n",
    "    \n",
    "tree_to_rules(clf, df.drop(columns=size_methods).drop(columns=compilation_status_column_name).columns)"
   ]
  },
  {
   "cell_type": "code",
   "execution_count": 16,
   "metadata": {},
   "outputs": [
    {
     "name": "stdout",
     "output_type": "stream",
     "text": [
      "AIC79XX_BUILD_FIRMWARE <= 0.5 & AIC7XXX_BUILD_FIRMWARE <= 0.5 & WANXL_BUILD_FIRMWARE <= 0.5 & GENERIC_ALLOCATOR <= 0.5 & DRM_VBOXVIDEO <= 1.5 & WIL6210_TRACING <= 0.5 & SPI_ORION <= 0.5 & LEDS_LM355x > 0.5 ---> [[1. 0.]]\n",
      "AIC79XX_BUILD_FIRMWARE <= 0.5 & AIC7XXX_BUILD_FIRMWARE <= 0.5 & WANXL_BUILD_FIRMWARE <= 0.5 & GENERIC_ALLOCATOR <= 0.5 & DRM_VBOXVIDEO <= 1.5 & WIL6210_TRACING > 0.5 ---> [[1. 0.]]\n",
      "AIC79XX_BUILD_FIRMWARE <= 0.5 & AIC7XXX_BUILD_FIRMWARE <= 0.5 & WANXL_BUILD_FIRMWARE <= 0.5 & GENERIC_ALLOCATOR <= 0.5 & DRM_VBOXVIDEO > 1.5 ---> [[19.  0.]]\n",
      "AIC79XX_BUILD_FIRMWARE <= 0.5 & AIC7XXX_BUILD_FIRMWARE <= 0.5 & WANXL_BUILD_FIRMWARE <= 0.5 & GENERIC_ALLOCATOR > 0.5 & MLX5_CORE_IPOIB <= 0.5 & USB_PULSE8_CEC <= 0.5 & VIDEO_SAMSUNG_EXYNOS_GSC <= 0.5 ---> [[2. 0.]]\n",
      "AIC79XX_BUILD_FIRMWARE <= 0.5 & AIC7XXX_BUILD_FIRMWARE <= 0.5 & WANXL_BUILD_FIRMWARE <= 0.5 & GENERIC_ALLOCATOR > 0.5 & MLX5_CORE_IPOIB <= 0.5 & USB_PULSE8_CEC > 0.5 & ISDN_DIVAS_MAINT <= 0.5 & USB_MUSB_GADGET > 0.5 ---> [[1. 0.]]\n",
      "AIC79XX_BUILD_FIRMWARE <= 0.5 & AIC7XXX_BUILD_FIRMWARE <= 0.5 & WANXL_BUILD_FIRMWARE <= 0.5 & GENERIC_ALLOCATOR > 0.5 & MLX5_CORE_IPOIB <= 0.5 & USB_PULSE8_CEC > 0.5 & ISDN_DIVAS_MAINT > 0.5 & RDMA_RXE <= 1.5 & HOTPLUG_PCI_CPCI_GENERIC <= 0.5 & SND_SOC_INTEL_BXT_DA7219_MAX98357A_MACH <= 1.5 & USB_SERIAL_MXUPORT > 1.5 ---> [[1. 0.]]\n",
      "AIC79XX_BUILD_FIRMWARE <= 0.5 & AIC7XXX_BUILD_FIRMWARE <= 0.5 & WANXL_BUILD_FIRMWARE <= 0.5 & GENERIC_ALLOCATOR > 0.5 & MLX5_CORE_IPOIB <= 0.5 & USB_PULSE8_CEC > 0.5 & ISDN_DIVAS_MAINT > 0.5 & RDMA_RXE <= 1.5 & HOTPLUG_PCI_CPCI_GENERIC <= 0.5 & SND_SOC_INTEL_BXT_DA7219_MAX98357A_MACH > 1.5 ---> [[1. 0.]]\n",
      "AIC79XX_BUILD_FIRMWARE <= 0.5 & AIC7XXX_BUILD_FIRMWARE <= 0.5 & WANXL_BUILD_FIRMWARE <= 0.5 & GENERIC_ALLOCATOR > 0.5 & MLX5_CORE_IPOIB <= 0.5 & USB_PULSE8_CEC > 0.5 & ISDN_DIVAS_MAINT > 0.5 & RDMA_RXE > 1.5 & DVB_A8293 <= 0.5 ---> [[1. 0.]]\n",
      "AIC79XX_BUILD_FIRMWARE <= 0.5 & AIC7XXX_BUILD_FIRMWARE <= 0.5 & WANXL_BUILD_FIRMWARE <= 0.5 & GENERIC_ALLOCATOR > 0.5 & MLX5_CORE_IPOIB <= 0.5 & USB_PULSE8_CEC > 0.5 & ISDN_DIVAS_MAINT > 0.5 & RDMA_RXE > 1.5 & DVB_A8293 > 0.5 & PM_TEST_SUSPEND > 0.5 & VIRTIO_MMIO <= 1.5 ---> [[2. 0.]]\n",
      "AIC79XX_BUILD_FIRMWARE <= 0.5 & AIC7XXX_BUILD_FIRMWARE <= 0.5 & WANXL_BUILD_FIRMWARE <= 0.5 & GENERIC_ALLOCATOR > 0.5 & MLX5_CORE_IPOIB > 0.5 & IEEE802154_ADF7242 <= 0.5 ---> [[1. 0.]]\n",
      "AIC79XX_BUILD_FIRMWARE <= 0.5 & AIC7XXX_BUILD_FIRMWARE <= 0.5 & WANXL_BUILD_FIRMWARE <= 0.5 & GENERIC_ALLOCATOR > 0.5 & MLX5_CORE_IPOIB > 0.5 & IEEE802154_ADF7242 > 0.5 & DVB_CX22702 > 1.5 ---> [[1. 0.]]\n",
      "AIC79XX_BUILD_FIRMWARE <= 0.5 & AIC7XXX_BUILD_FIRMWARE <= 0.5 & WANXL_BUILD_FIRMWARE > 0.5 ---> [[55.  0.]]\n",
      "AIC79XX_BUILD_FIRMWARE <= 0.5 & AIC7XXX_BUILD_FIRMWARE > 0.5 ---> [[110.   0.]]\n",
      "AIC79XX_BUILD_FIRMWARE > 0.5 ---> [[166.   0.]]\n"
     ]
    }
   ],
   "source": [
    "def tree_to_failure_rules(tree, feature_names):\n",
    "    tree_ = tree.tree_\n",
    "    feature_name = [\n",
    "        feature_names[i] if i != _tree.TREE_UNDEFINED else \"undefined!\"\n",
    "        for i in tree_.feature\n",
    "    ]\n",
    "    #print (\"def tree({}):\".format(\", \".join(feature_names)))\n",
    "\n",
    "    def recurse(node, previous_rules):\n",
    "        if tree_.feature[node] != _tree.TREE_UNDEFINED:\n",
    "            name = feature_name[node]\n",
    "            threshold = tree_.threshold[node]\n",
    "            #print (\"{}if {} <= {}:\".format(indent, name, threshold))\n",
    "            recurse(tree_.children_left[node], previous_rules+[name + \" <= \" + str(threshold)])\n",
    "            #print (\"{}else:  # if {} > {}\".format(indent, name, threshold))\n",
    "            recurse(tree_.children_right[node], previous_rules+[name + \" > \" + str(threshold)])\n",
    "        else:\n",
    "            if tree_.value[node][0][0] > tree_.value[node][0][1]:\n",
    "                print(\" & \".join(previous_rules) + \" ---> \" + str(tree_.value[node]))\n",
    "\n",
    "    recurse(0, [])\n",
    "    \n",
    "tree_to_failure_rules(clf, df.drop(columns=size_methods).drop(columns=compilation_status_column_name).columns)"
   ]
  },
  {
   "cell_type": "code",
   "execution_count": 17,
   "metadata": {},
   "outputs": [
    {
     "name": "stdout",
     "output_type": "stream",
     "text": [
      "AIC79XX_BUILD_FIRMWARE <= 0.5 & AIC7XXX_BUILD_FIRMWARE <= 0.5 & WANXL_BUILD_FIRMWARE <= 0.5 & GENERIC_ALLOCATOR <= 0.5 & DRM_VBOXVIDEO > 1.5\n"
     ]
    }
   ],
   "source": [
    "def find_rule_for_configuration(tree, feature_names, configuration):\n",
    "    tree_ = tree.tree_\n",
    "    feature_name = [\n",
    "        feature_names[i] if i != _tree.TREE_UNDEFINED else \"undefined!\"\n",
    "        for i in tree_.feature\n",
    "    ]\n",
    "    \n",
    "    def recurse(node, previous_rules, configuration):\n",
    "        if tree_.feature[node] != _tree.TREE_UNDEFINED:\n",
    "            name = feature_name[node]\n",
    "            threshold = tree_.threshold[node]\n",
    "            #print (\"{}if {} <= {}:\".format(indent, name, threshold))\n",
    "            if configuration[name] <= threshold:\n",
    "                recurse(tree_.children_left[node], previous_rules+[name + \" <= \" + str(threshold)], configuration)\n",
    "            #print (\"{}else:  # if {} > {}\".format(indent, name, threshold))\n",
    "            else:\n",
    "                recurse(tree_.children_right[node], previous_rules+[name + \" > \" + str(threshold)], configuration)\n",
    "        else:\n",
    "            if tree_.value[node][0][0] > tree_.value[node][0][1]:\n",
    "                print(\" & \".join(previous_rules))\n",
    "    \n",
    "    recurse(0, [], configuration)\n",
    "    \n",
    "find_rule_for_configuration(clf, df.drop(columns=size_methods).drop(columns=compilation_status_column_name).columns, df.loc[65586]) # <--give the row you want the rules for"
   ]
  },
  {
   "cell_type": "code",
   "execution_count": null,
   "metadata": {},
   "outputs": [],
   "source": []
  }
 ],
 "metadata": {
  "kernelspec": {
   "display_name": "Python 3",
   "language": "python",
   "name": "python3"
  },
  "language_info": {
   "codemirror_mode": {
    "name": "ipython",
    "version": 3
   },
   "file_extension": ".py",
   "mimetype": "text/x-python",
   "name": "python",
   "nbconvert_exporter": "python",
   "pygments_lexer": "ipython3",
   "version": "3.6.8"
  }
 },
 "nbformat": 4,
 "nbformat_minor": 2
}
